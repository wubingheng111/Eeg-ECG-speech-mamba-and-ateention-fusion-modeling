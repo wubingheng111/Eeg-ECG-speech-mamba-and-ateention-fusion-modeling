{
 "cells": [
  {
   "cell_type": "code",
   "execution_count": 1,
   "metadata": {},
   "outputs": [],
   "source": [
    "import pandas as pd\n",
    "\n",
    "pd.set_option('display.max_columns', 500)\n",
    "pd.set_option('display.width', 9999999)"
   ]
  },
  {
   "cell_type": "code",
   "execution_count": 2,
   "metadata": {},
   "outputs": [],
   "source": [
    "def generate_feature(row):\n",
    "    # 将两个数字拼接\n",
    "    list = []    \n",
    "    list.append(row['hypertension'])\n",
    "    list.append(row['heart_disease'])\n",
    "    return list\n",
    "\n",
    "def generate_text(row):\n",
    "    return f\"\"\"\n",
    "gender: {row['gender']}\n",
    "age: {row['age']}\n",
    "ever_married: {row['ever_married']}\n",
    "work_type: {row['work_type']}\n",
    "Residence_type: {row['Residence_type']}\n",
    "avg_glucose_level: {row['avg_glucose_level']}\n",
    "bmi: {row['bmi']}\n",
    "smoking_status: {row['smoking_status']}\n",
    "\"\"\".strip()\n",
    "\n",
    "def generate_label(row):\n",
    "    return row['stroke']"
   ]
  },
  {
   "cell_type": "code",
   "execution_count": 45,
   "metadata": {},
   "outputs": [
    {
     "name": "stdout",
     "output_type": "stream",
     "text": [
      "  feature                                               text  label\n",
      "0  [0, 0]  gender: Male\\nage: 3.0\\never_married: No\\nwork...      0\n",
      "1  [1, 0]  gender: Male\\nage: 58.0\\never_married: Yes\\nwo...      0\n",
      "2  [0, 0]  gender: Female\\nage: 8.0\\never_married: No\\nwo...      0\n",
      "3  [0, 0]  gender: Female\\nage: 70.0\\never_married: Yes\\n...      0\n",
      "4  [0, 0]  gender: Male\\nage: 14.0\\never_married: No\\nwor...      0\n",
      "  feature                                               text  label\n",
      "0  [0, 1]  gender: Male\\nage: 67.0\\never_married: Yes\\nwo...      1\n",
      "1  [0, 0]  gender: Female\\nage: 61.0\\never_married: Yes\\n...      1\n",
      "2  [0, 1]  gender: Male\\nage: 80.0\\never_married: Yes\\nwo...      1\n",
      "3  [0, 0]  gender: Female\\nage: 49.0\\never_married: Yes\\n...      1\n",
      "4  [1, 0]  gender: Female\\nage: 79.0\\never_married: Yes\\n...      1\n"
     ]
    }
   ],
   "source": [
    "# 打开data\\healthcare-dataset-stroke-data.csv文件\n",
    "train_df = pd.read_csv('./dataset.csv') # 数据地址: https://www.kaggle.com/datasets/shashwatwork/cerebral-stroke-predictionimbalaced-dataset\n",
    "eval_df = pd.read_csv('./healthcare-dataset-stroke-data.csv') # 数据地址: https://www.kaggle.com/datasets/fedesoriano/stroke-prediction-dataset/\n",
    "# 将数据集中的数据按照一定的规则进行处理\n",
    "new_train_df = pd.DataFrame()\n",
    "new_train_df['feature'] = train_df.apply(generate_feature, axis=1)\n",
    "new_train_df['text'] = train_df.apply(generate_text, axis=1)\n",
    "new_train_df['label'] = train_df.apply(generate_label, axis=1)\n",
    "new_eval_df = pd.DataFrame()\n",
    "new_eval_df['feature'] = eval_df.apply(generate_feature, axis=1)\n",
    "new_eval_df['text'] = eval_df.apply(generate_text, axis=1)\n",
    "new_eval_df['label'] = eval_df.apply(generate_label, axis=1)\n",
    "\n",
    "\n",
    "# 查看处理后的数据\n",
    "print(new_train_df.head())\n",
    "print(new_eval_df.head())\n",
    "\n",
    "# train 的0, 1标签各保留1024个 但是1标签显然不足1024个 正好可以模拟数据不均衡的情况\n",
    "new_train_df = new_train_df.groupby('label').head(1024)\n",
    "\n",
    "# eval 的0, 1标签各保留128个\n",
    "new_eval_df = new_eval_df.groupby('label').head(128)\n"
   ]
  },
  {
   "cell_type": "code",
   "execution_count": 46,
   "metadata": {},
   "outputs": [],
   "source": [
    "# 将新数据以datasets库中的数据集的形式保存\n",
    "from datasets import Dataset, DatasetDict, load_from_disk\n",
    "train_dataset = Dataset.from_pandas(new_train_df)\n",
    "eval_dataset = Dataset.from_pandas(new_eval_df)\n",
    "\n",
    "# 融合为一个数据集\n",
    "dataset_dict = DatasetDict({\n",
    "    'train': train_dataset, \n",
    "    'eval': eval_dataset\n",
    "})"
   ]
  },
  {
   "cell_type": "code",
   "execution_count": 47,
   "metadata": {},
   "outputs": [
    {
     "name": "stdout",
     "output_type": "stream",
     "text": [
      "DatasetDict({\n",
      "    train: Dataset({\n",
      "        features: ['feature', 'text', 'label'],\n",
      "        num_rows: 43400\n",
      "    })\n",
      "    eval: Dataset({\n",
      "        features: ['feature', 'text', 'label', '__index_level_0__'],\n",
      "        num_rows: 256\n",
      "    })\n",
      "})\n"
     ]
    }
   ],
   "source": [
    "print(dataset_dict)"
   ]
  },
  {
   "cell_type": "code",
   "execution_count": 48,
   "metadata": {},
   "outputs": [
    {
     "data": {
      "application/vnd.jupyter.widget-view+json": {
       "model_id": "70173c4e3ea64a438e8150418faf8e0a",
       "version_major": 2,
       "version_minor": 0
      },
      "text/plain": [
       "Saving the dataset (0/1 shards):   0%|          | 0/43400 [00:00<?, ? examples/s]"
      ]
     },
     "metadata": {},
     "output_type": "display_data"
    },
    {
     "data": {
      "application/vnd.jupyter.widget-view+json": {
       "model_id": "1d034cb4238f4dc5885773ffb2bc99b7",
       "version_major": 2,
       "version_minor": 0
      },
      "text/plain": [
       "Saving the dataset (0/1 shards):   0%|          | 0/256 [00:00<?, ? examples/s]"
      ]
     },
     "metadata": {},
     "output_type": "display_data"
    }
   ],
   "source": [
    "# 保存数据集\n",
    "dataset_dict.save_to_disk('./healthcare_stroke')"
   ]
  },
  {
   "cell_type": "code",
   "execution_count": 49,
   "metadata": {},
   "outputs": [
    {
     "name": "stdout",
     "output_type": "stream",
     "text": [
      "Dataset({\n",
      "    features: ['feature', 'text', 'label'],\n",
      "    num_rows: 43400\n",
      "})\n",
      "Dataset({\n",
      "    features: ['feature', 'text', 'label', '__index_level_0__'],\n",
      "    num_rows: 256\n",
      "})\n"
     ]
    }
   ],
   "source": [
    "# 加载查看\n",
    "train_dataset = load_from_disk('healthcare_stroke')['train']\n",
    "print(train_dataset)\n",
    "eval_dataset = load_from_disk('healthcare_stroke')['eval']\n",
    "print(eval_dataset)"
   ]
  },
  {
   "cell_type": "code",
   "execution_count": 50,
   "metadata": {},
   "outputs": [
    {
     "name": "stdout",
     "output_type": "stream",
     "text": [
      "train_dataset: 42617 783\n"
     ]
    }
   ],
   "source": [
    "# 查看两个集的类别分布\n",
    "zero = 0\n",
    "one = 0\n",
    "for i in train_dataset['label']:\n",
    "    if i == 0:\n",
    "        zero += 1\n",
    "    else:\n",
    "        one += 1\n",
    "print('train_dataset:', zero, one)"
   ]
  },
  {
   "cell_type": "code",
   "execution_count": 51,
   "metadata": {},
   "outputs": [
    {
     "name": "stdout",
     "output_type": "stream",
     "text": [
      "eval_dataset: 128 128\n"
     ]
    }
   ],
   "source": [
    "zero = 0\n",
    "one = 0\n",
    "for i in eval_dataset['label']:\n",
    "    if i == 0:\n",
    "        zero += 1\n",
    "    else:\n",
    "        one += 1\n",
    "print('eval_dataset:', zero, one)"
   ]
  },
  {
   "cell_type": "code",
   "execution_count": null,
   "metadata": {},
   "outputs": [],
   "source": []
  }
 ],
 "metadata": {
  "kernelspec": {
   "display_name": "self",
   "language": "python",
   "name": "python3"
  },
  "language_info": {
   "codemirror_mode": {
    "name": "ipython",
    "version": 3
   },
   "file_extension": ".py",
   "mimetype": "text/x-python",
   "name": "python",
   "nbconvert_exporter": "python",
   "pygments_lexer": "ipython3",
   "version": "3.9.16"
  }
 },
 "nbformat": 4,
 "nbformat_minor": 2
}
