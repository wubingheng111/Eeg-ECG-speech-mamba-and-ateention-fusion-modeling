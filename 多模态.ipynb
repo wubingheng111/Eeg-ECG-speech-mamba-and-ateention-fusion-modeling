{
 "cells": [
  {
   "cell_type": "code",
   "execution_count": 2,
   "metadata": {},
   "outputs": [
    {
     "data": {
      "application/vnd.jupyter.widget-view+json": {
       "model_id": "27f969e539324b33b05879186b8e8da4",
       "version_major": 2,
       "version_minor": 0
      },
      "text/plain": [
       "Resolving data files:   0%|          | 0/30 [00:00<?, ?it/s]"
      ]
     },
     "metadata": {},
     "output_type": "display_data"
    }
   ],
   "source": [
    "from datasets import load_dataset\n",
    "#加载dataset/train文件夹下的所有.csv文件\n",
    "dataset = load_dataset(\"csv\",data_dir=r'datasets\\dataset_BME_depression\\eegsignals')\n"
   ]
  },
  {
   "cell_type": "code",
   "execution_count": 3,
   "metadata": {},
   "outputs": [
    {
     "name": "stdout",
     "output_type": "stream",
     "text": [
      "DatasetDict({\n",
      "    train: Dataset({\n",
      "        features: ['0', '1'],\n",
      "        num_rows: 277000\n",
      "    })\n",
      "})\n"
     ]
    }
   ],
   "source": [
    "print(dataset)"
   ]
  },
  {
   "cell_type": "code",
   "execution_count": 4,
   "metadata": {},
   "outputs": [],
   "source": [
    "import os\n",
    "from datasets import load_dataset\n",
    "\n",
    "# 获取datasets/dataset_BME_depression文件夹下所有以eeg开头的.csv文件\n",
    "data_dir = r'datasets\\dataset_BME_depression'\n",
    "csv_files = [f for f in os.listdir(data_dir) if f.endswith('.csv') and f.startswith('eeg')]\n",
    "\n",
    "# 加载这些.csv文件\n",
    "datasets = [load_dataset('csv', data_files=os.path.join(data_dir, f)) for f in csv_files]"
   ]
  },
  {
   "cell_type": "code",
   "execution_count": 5,
   "metadata": {},
   "outputs": [],
   "source": [
    "import os\n",
    "from datasets import load_dataset\n",
    "\n",
    "# 获取datasets/dataset_BME_depression文件夹下所有以eeg开头的.csv文件\n",
    "data_dir = r'datasets\\dataset_BME_depression'\n",
    "csv_files = [f for f in os.listdir(data_dir) if f.endswith('.csv') and f.startswith('eeg')]\n",
    "\n",
    "# 加载这些.csv文件\n",
    "datasets = [load_dataset('csv', data_files=os.path.join(data_dir, f)) for f in csv_files]"
   ]
  },
  {
   "cell_type": "code",
   "execution_count": 6,
   "metadata": {},
   "outputs": [
    {
     "name": "stdout",
     "output_type": "stream",
     "text": [
      "[]\n"
     ]
    }
   ],
   "source": [
    "print(datasets)"
   ]
  },
  {
   "cell_type": "code",
   "execution_count": 7,
   "metadata": {},
   "outputs": [
    {
     "name": "stdout",
     "output_type": "stream",
     "text": [
      "Looking in directory: datasets\\dataset_BME_depression\n",
      "Found files: []\n",
      "[]\n"
     ]
    }
   ],
   "source": [
    "import os\n",
    "from datasets import load_dataset\n",
    "\n",
    "data_dir = r'datasets\\dataset_BME_depression'\n",
    "print(f\"Looking in directory: {data_dir}\")\n",
    "\n",
    "csv_files = [f for f in os.listdir(data_dir) if f.endswith('.csv') and f.startswith('eeg')]\n",
    "print(f\"Found files: {csv_files}\")\n",
    "\n",
    "datasets = [load_dataset('csv', data_files=os.path.join(data_dir, f)) for f in csv_files]\n",
    "print(datasets)"
   ]
  },
  {
   "cell_type": "markdown",
   "metadata": {},
   "source": [
    "# 移动脑电信号文件"
   ]
  },
  {
   "cell_type": "code",
   "execution_count": 8,
   "metadata": {},
   "outputs": [
    {
     "name": "stdout",
     "output_type": "stream",
     "text": [
      "datasets/dataset_BME_depression/all_train/0/eegevents.csv\n",
      "datasets/dataset_BME_depression/all_train/1/eegevents.csv\n",
      "datasets/dataset_BME_depression/all_train/2/eegevents.csv\n",
      "datasets/dataset_BME_depression/all_train/3/eegevents.csv\n",
      "datasets/dataset_BME_depression/all_train/4/eegevents.csv\n",
      "datasets/dataset_BME_depression/all_train/5/eegevents.csv\n",
      "datasets/dataset_BME_depression/all_train/6/eegevents.csv\n",
      "datasets/dataset_BME_depression/all_train/7/eegevents.csv\n",
      "datasets/dataset_BME_depression/all_train/8/eegevents.csv\n",
      "datasets/dataset_BME_depression/all_train/9/eegevents.csv\n",
      "datasets/dataset_BME_depression/all_train/10/eegevents.csv\n",
      "datasets/dataset_BME_depression/all_train/11/eegevents.csv\n",
      "datasets/dataset_BME_depression/all_train/12/eegevents.csv\n",
      "datasets/dataset_BME_depression/all_train/13/eegevents.csv\n",
      "datasets/dataset_BME_depression/all_train/14/eegevents.csv\n",
      "datasets/dataset_BME_depression/all_train/15/eegevents.csv\n",
      "datasets/dataset_BME_depression/all_train/16/eegevents.csv\n",
      "datasets/dataset_BME_depression/all_train/17/eegevents.csv\n",
      "datasets/dataset_BME_depression/all_train/18/eegevents.csv\n",
      "datasets/dataset_BME_depression/all_train/19/eegevents.csv\n",
      "datasets/dataset_BME_depression/all_train/20/eegevents.csv\n",
      "datasets/dataset_BME_depression/all_train/21/eegevents.csv\n",
      "datasets/dataset_BME_depression/all_train/22/eegevents.csv\n",
      "datasets/dataset_BME_depression/all_train/23/eegevents.csv\n",
      "datasets/dataset_BME_depression/all_train/24/eegevents.csv\n",
      "datasets/dataset_BME_depression/all_train/25/eegevents.csv\n",
      "datasets/dataset_BME_depression/all_train/26/eegevents.csv\n",
      "datasets/dataset_BME_depression/all_train/27/eegevents.csv\n",
      "datasets/dataset_BME_depression/all_train/28/eegevents.csv\n",
      "datasets/dataset_BME_depression/all_train/29/eegevents.csv\n",
      "datasets/dataset_BME_depression/all_train/30/eegevents.csv\n"
     ]
    }
   ],
   "source": [
    "# 在C:\\Users\\wbh\\Desktop\\practice\\datasets\\dataset_BME_depression\\eegsignals\\train下创建01到30文件夹\n",
    "import os\n",
    "for i in range(1,31):\n",
    "    if not os.path.exists(r'datasets\\dataset_BME_depression\\eegsignals\\train\\{:02d}'.format(i)):\n",
    "        os.makedirs(r'datasets\\dataset_BME_depression\\eegsignals\\train\\{:02d}'.format(i))\n",
    "#把C:\\Users\\wbh\\Desktop\\practice\\datasets\\dataset_BME_depression\\all_train下04-30的所有eegevents.csv文件移动到C:\\Users\\wbh\\Desktop\\practice\\datasets\\dataset_BME_depression\\eegsignals\\train\\04到30文件夹下\n",
    "import os\n",
    "import shutil\n",
    "for i in range(0,31):\n",
    "    try:\n",
    "        print(f'datasets/dataset_BME_depression/all_train/{i}/eegevents.csv')\n",
    "        shutil.move(f'datasets/dataset_BME_depression/all_train/{i}/eegsignals.csv', f'datasets/dataset_BME_depression/eegsignals/train/{i}/eegsignals.csv')\n",
    "    except:\n",
    "        pass"
   ]
  },
  {
   "cell_type": "code",
   "execution_count": 9,
   "metadata": {},
   "outputs": [
    {
     "name": "stdout",
     "output_type": "stream",
     "text": [
      "datasets/dataset_BME_depression/all_train/0/ecgsignals.csv\n",
      "datasets/dataset_BME_depression/all_train/1/ecgsignals.csv\n",
      "datasets/dataset_BME_depression/all_train/2/ecgsignals.csv\n",
      "datasets/dataset_BME_depression/all_train/3/ecgsignals.csv\n",
      "datasets/dataset_BME_depression/all_train/4/ecgsignals.csv\n",
      "datasets/dataset_BME_depression/all_train/5/ecgsignals.csv\n",
      "datasets/dataset_BME_depression/all_train/6/ecgsignals.csv\n",
      "datasets/dataset_BME_depression/all_train/7/ecgsignals.csv\n",
      "datasets/dataset_BME_depression/all_train/8/ecgsignals.csv\n",
      "datasets/dataset_BME_depression/all_train/9/ecgsignals.csv\n",
      "datasets/dataset_BME_depression/all_train/10/ecgsignals.csv\n",
      "datasets/dataset_BME_depression/all_train/11/ecgsignals.csv\n",
      "datasets/dataset_BME_depression/all_train/12/ecgsignals.csv\n",
      "datasets/dataset_BME_depression/all_train/13/ecgsignals.csv\n",
      "datasets/dataset_BME_depression/all_train/14/ecgsignals.csv\n",
      "datasets/dataset_BME_depression/all_train/15/ecgsignals.csv\n",
      "datasets/dataset_BME_depression/all_train/16/ecgsignals.csv\n",
      "datasets/dataset_BME_depression/all_train/17/ecgsignals.csv\n",
      "datasets/dataset_BME_depression/all_train/18/ecgsignals.csv\n",
      "datasets/dataset_BME_depression/all_train/19/ecgsignals.csv\n",
      "datasets/dataset_BME_depression/all_train/20/ecgsignals.csv\n",
      "datasets/dataset_BME_depression/all_train/21/ecgsignals.csv\n",
      "datasets/dataset_BME_depression/all_train/22/ecgsignals.csv\n",
      "datasets/dataset_BME_depression/all_train/23/ecgsignals.csv\n",
      "datasets/dataset_BME_depression/all_train/24/ecgsignals.csv\n",
      "datasets/dataset_BME_depression/all_train/25/ecgsignals.csv\n",
      "datasets/dataset_BME_depression/all_train/26/ecgsignals.csv\n",
      "datasets/dataset_BME_depression/all_train/27/ecgsignals.csv\n",
      "datasets/dataset_BME_depression/all_train/28/ecgsignals.csv\n",
      "datasets/dataset_BME_depression/all_train/29/ecgsignals.csv\n",
      "datasets/dataset_BME_depression/all_train/30/ecgsignals.csv\n"
     ]
    }
   ],
   "source": [
    "import os\n",
    "for i in range(1,31):\n",
    "    if not os.path.exists(r'datasets\\dataset_BME_depression\\ecgsignals\\train\\{:02d}'.format(i)):\n",
    "        os.makedirs(r'datasets\\dataset_BME_depression\\ecgsignals\\train\\{:02d}'.format(i))\n",
    "#把C:\\Users\\wbh\\Desktop\\practice\\datasets\\dataset_BME_depression\\all_train下01-30的所有文件移动到C:\\Users\\wbh\\Desktop\\practice\\datasets\\dataset_BME_depression\\eegsignals\\train\\04到30文件夹下\n",
    "import os\n",
    "import shutil\n",
    "for i in range(0,31):\n",
    "    try:\n",
    "        print(f'datasets/dataset_BME_depression/all_train/{i}/ecgsignals.csv')\n",
    "        shutil.move(f'datasets/dataset_BME_depression/all_train/{i}/ecgsignals.csv', f'datasets/dataset_BME_depression/ecgsignals/train/{i}/ecgsignals.csv')\n",
    "    except:\n",
    "        pass"
   ]
  },
  {
   "cell_type": "markdown",
   "metadata": {},
   "source": [
    "# 加载多模态文件"
   ]
  },
  {
   "cell_type": "code",
   "execution_count": 10,
   "metadata": {},
   "outputs": [
    {
     "data": {
      "application/vnd.jupyter.widget-view+json": {
       "model_id": "c5db7551439f4f3abcd323b5be7e3040",
       "version_major": 2,
       "version_minor": 0
      },
      "text/plain": [
       "Resolving data files:   0%|          | 0/30 [00:00<?, ?it/s]"
      ]
     },
     "metadata": {},
     "output_type": "display_data"
    }
   ],
   "source": [
    "from datasets import load_dataset\n",
    "\n",
    "ecgsignals_dataset = load_dataset(path=r'datasets\\dataset_BME_depression\\ecgsignals')"
   ]
  },
  {
   "cell_type": "code",
   "execution_count": 11,
   "metadata": {},
   "outputs": [
    {
     "name": "stdout",
     "output_type": "stream",
     "text": [
      "DatasetDict({\n",
      "    train: Dataset({\n",
      "        features: ['0'],\n",
      "        num_rows: 277000\n",
      "    })\n",
      "})\n"
     ]
    }
   ],
   "source": [
    "print(ecgsignals_dataset)"
   ]
  },
  {
   "cell_type": "code",
   "execution_count": 12,
   "metadata": {},
   "outputs": [
    {
     "name": "stdout",
     "output_type": "stream",
     "text": [
      "{'0': -0.0559360038785498}\n",
      "{'0': -0.0496333555542062}\n",
      "{'0': -0.0504817889824842}\n",
      "{'0': -0.0521786558390366}\n",
      "{'0': -0.0366644445791143}\n",
      "{'0': -0.0290285437246197}\n",
      "{'0': -0.0252711956851066}\n",
      "{'0': 0.0044239743045903}\n",
      "{'0': 0.0047875886309951}\n",
      "{'0': -0.0066056602630125}\n",
      "{'0': 0.0033331313253758}\n",
      "{'0': 0.0159384279740629}\n",
      "{'0': 0.0264832434397927}\n",
      "{'0': 0.0473304648203158}\n",
      "{'0': 0.0436943215562709}\n",
      "{'0': 0.0513302224107654}\n",
      "{'0': 0.0676928670989657}\n",
      "{'0': 0.073874310647841}\n",
      "{'0': 0.0941155081510226}\n",
      "{'0': 0.1171444154899712}\n",
      "{'0': 0.1218714017332306}\n",
      "{'0': 0.1287800739349155}\n",
      "{'0': 0.1435670565420282}\n",
      "{'0': 0.1612629537603795}\n",
      "{'0': 0.1608993394339746}\n",
      "{'0': 0.1646566874734878}\n",
      "{'0': 0.1527786194776103}\n",
      "{'0': 0.1590812678019539}\n",
      "{'0': 0.1592024725774221}\n",
      "{'0': 0.1463547663777985}\n",
      "{'0': 0.1373856129931529}\n",
      "{'0': 0.1421125992364122}\n",
      "{'0': 0.1415065753590709}\n",
      "{'0': 0.1315677837706825}\n",
      "{'0': 0.1044179140658159}\n",
      "{'0': 0.0859947881946583}\n",
      "{'0': 0.0696321435064547}\n",
      "{'0': 0.0469668504939109}\n",
      "{'0': 0.0309678201321155}\n",
      "{'0': 0.0272104720926024}\n",
      "{'0': 0.0030907217744393}\n",
      "{'0': -0.0119386703836099}\n",
      "{'0': -0.0363008302527095}\n",
      "{'0': -0.0589661232652533}\n",
      "{'0': -0.0693897339555148}\n",
      "{'0': -0.0829646688079481}\n",
      "{'0': -0.0944791224774241}\n",
      "{'0': -0.0927822556208682}\n",
      "{'0': -0.0965396036603814}\n",
      "{'0': -0.1120538149203071}\n",
      "{'0': -0.1222350160596287}\n",
      "{'0': -0.1142355008787327}\n",
      "{'0': -0.1171444154899679}\n",
      "{'0': -0.1172656202654362}\n",
      "{'0': -0.1064783952487698}\n",
      "{'0': -0.1089024907581319}\n",
      "{'0': -0.1177504393673092}\n",
      "{'0': -0.1304769407914646}\n",
      "{'0': -0.126962002302888}\n",
      "{'0': -0.0949639415792972}\n",
      "{'0': -0.1017514090055138}\n",
      "{'0': -0.11629598206169}\n",
      "{'0': -0.1308405551178695}\n",
      "{'0': -0.1347191079328509}\n",
      "{'0': -0.1242954972425894}\n",
      "{'0': -0.1166595963880948}\n",
      "{'0': -0.0944791224774241}\n",
      "{'0': -0.0817526210532687}\n",
      "{'0': -0.1042967092903442}\n",
      "{'0': -0.1147203199806057}\n",
      "{'0': -0.126962002302888}\n",
      "{'0': -0.1382340464214275}\n",
      "{'0': -0.1336282649536364}\n",
      "{'0': -0.1331434458517633}\n",
      "{'0': -0.1299921216895915}\n",
      "{'0': -0.1303557360159964}\n",
      "{'0': -0.1321738076480205}\n",
      "{'0': -0.1326586267498902}\n",
      "{'0': -0.14320344221562}\n",
      "{'0': -0.1541118720077546}\n",
      "{'0': -0.1240530876916528}\n",
      "{'0': -0.1089024907581319}\n",
      "{'0': -0.1370219986667447}\n",
      "{'0': -0.1690200593903389}\n",
      "{'0': -0.1590812678019505}\n",
      "{'0': -0.1482940427852842}\n",
      "{'0': -0.1582328343736726}\n",
      "{'0': -0.1474456093570063}\n",
      "{'0': -0.1308405551178695}\n",
      "{'0': -0.1524150051512021}\n",
      "{'0': -0.1549603054360325}\n",
      "{'0': -0.1356887461365937}\n",
      "{'0': -0.1886552330161792}\n",
      "{'0': -0.1898672807708586}\n",
      "{'0': -0.1537482576813498}\n",
      "{'0': -0.1509605478455828}\n",
      "{'0': -0.1463547663777918}\n",
      "{'0': -0.145991152051387}\n",
      "{'0': -0.1657475304526989}\n",
      "{'0': -0.1756863220410873}\n"
     ]
    }
   ],
   "source": [
    "for i in range(100):\n",
    "    print(ecgsignals_dataset['train'][i])"
   ]
  },
  {
   "cell_type": "code",
   "execution_count": 13,
   "metadata": {},
   "outputs": [
    {
     "data": {
      "application/vnd.jupyter.widget-view+json": {
       "model_id": "17384f032f9849458e8186fcd44775f7",
       "version_major": 2,
       "version_minor": 0
      },
      "text/plain": [
       "Resolving data files:   0%|          | 0/30 [00:00<?, ?it/s]"
      ]
     },
     "metadata": {},
     "output_type": "display_data"
    },
    {
     "name": "stdout",
     "output_type": "stream",
     "text": [
      "DatasetDict({\n",
      "    train: Dataset({\n",
      "        features: ['0', '1'],\n",
      "        num_rows: 277000\n",
      "    })\n",
      "})\n"
     ]
    }
   ],
   "source": [
    "from datasets import load_dataset\n",
    "eegsignals_dataset = load_dataset(path=r'datasets\\dataset_BME_depression\\eegsignals')\n",
    "print(eegsignals_dataset)"
   ]
  },
  {
   "cell_type": "code",
   "execution_count": 14,
   "metadata": {},
   "outputs": [
    {
     "name": "stdout",
     "output_type": "stream",
     "text": [
      "{'0': 0.5242595726676539, '1': 0.189766236513645}\n",
      "{'0': 0.2978818489528242, '1': 0.0488761370848318}\n",
      "{'0': 0.2117331288343558, '1': 0.2763248360482336}\n",
      "{'0': 0.4158610112121852, '1': 0.4108869261688174}\n",
      "{'0': 0.5563967632748043, '1': 0.4473397503702137}\n",
      "{'0': 0.4319653056907129, '1': 0.4562592553416543}\n",
      "{'0': 0.2632510048656653, '1': 0.3610270784852972}\n",
      "{'0': 0.1900729849799027, '1': 0.3277263592130315}\n",
      "{'0': 0.2873545589168606, '1': 0.4161439602284747}\n",
      "{'0': 0.3635947746985403, '1': 0.4466178337211762}\n",
      "{'0': 0.2816083139411889, '1': 0.1357599957689867}\n",
      "{'0': 0.0906944150624074, '1': -0.0080230590226358}\n",
      "{'0': 0.0116299978844934, '1': 0.2707055214723927}\n",
      "{'0': 0.2059287074254284, '1': 0.4076290459064946}\n",
      "{'0': 0.3687275227416967, '1': 0.4441162470911783}\n",
      "{'0': 0.367088005077216, '1': 0.452361434313518}\n",
      "{'0': 0.3858657711021789, '1': 0.4570578591072561}\n",
      "{'0': 0.3623439813835414, '1': 0.4576237571398349}\n",
      "{'0': 0.2055584937592553, '1': 0.2820023270573302}\n",
      "{'0': 0.1103606938861857, '1': 0.1930479162259361}\n",
      "{'0': 0.1067563994076582, '1': 0.3418077004442564}\n",
      "{'0': 0.0591839433044214, '1': 0.4238364713348847}\n",
      "{'0': 0.0539348423947536, '1': 0.4492648614343135}\n",
      "{'0': 0.3144039559974614, '1': 0.4540538396445948}\n",
      "{'0': 0.4894594880473873, '1': 0.4517373598476834}\n",
      "{'0': 0.3478210281362386, '1': 0.3390892743812143}\n",
      "{'0': 0.3525227416966364, '1': 0.3023640786968479}\n",
      "{'0': 0.3964671038713772, '1': 0.4013116141315845}\n",
      "{'0': 0.2721969536704041, '1': 0.3922651787603131}\n",
      "{'0': 0.1619790564840279, '1': 0.3861037656018616}\n",
      "{'0': 0.1425058176433256, '1': 0.4179923841760102}\n",
      "{'0': 0.1724799026866935, '1': 0.4267876031309499}\n",
      "{'0': 0.1502512164163317, '1': 0.4306246033425004}\n",
      "{'0': 0.1466363444044849, '1': 0.4128755024328326}\n",
      "{'0': 0.2065607150412523, '1': 0.4081447006558071}\n",
      "{'0': 0.1290908610112122, '1': 0.3689179183414428}\n",
      "{'0': -0.0332584091389887, '1': 0.2643114025809181}\n",
      "{'0': -0.123651364501798, '1': 0.2869605458007193}\n",
      "{'0': -0.068981383541358, '1': 0.3553284324095621}\n",
      "{'0': 0.0229082927861223, '1': 0.3756002750158663}\n",
      "{'0': 0.1133594245821874, '1': 0.4097895070869473}\n",
      "{'0': 0.2106489316691348, '1': 0.4216548550877935}\n",
      "{'0': 0.1970964671038713, '1': 0.2301036598265284}\n",
      "{'0': 0.2189998942246668, '1': 0.163914745081447}\n",
      "{'0': 0.3187460334250053, '1': 0.3423550877935265}\n",
      "{'0': 0.2906679712291093, '1': 0.2851676539031098}\n",
      "{'0': 0.2834990480220012, '1': 0.2662788237782949}\n",
      "{'0': 0.2843055849375925, '1': -0.1882986037656017}\n",
      "{'0': 0.2519436217474085, '1': -0.3373889359001479}\n",
      "{'0': 0.1982123968690501, '1': 0.1968822720541569}\n",
      "{'0': 0.0247990268669346, '1': 0.2334964036386714}\n",
      "{'0': -0.0403506452295323, '1': 0.2477734292363021}\n",
      "{'0': -0.0254442563994075, '1': -0.3690818701078908}\n",
      "{'0': 0.0120636767505818, '1': -0.5524460545800718}\n",
      "{'0': 0.1032102813623863, '1': 0.1783372117622171}\n",
      "{'0': 0.1482679289189761, '1': 0.4106991749524011}\n",
      "{'0': 0.1436640575417813, '1': 0.4665300401946265}\n",
      "{'0': 0.1092077427543897, '1': 0.477292680346943}\n",
      "{'0': 0.173022001269304, '1': 0.4926856357097525}\n",
      "{'0': 0.2707742754389676, '1': 0.4966099005711867}\n",
      "{'0': 0.3526417389464777, '1': 0.4940078273746562}\n",
      "{'0': 0.39189496509414, '1': 0.4739052253014597}\n",
      "{'0': 0.467883964459488, '1': 0.4666278823778295}\n",
      "{'0': 0.6233578379521895, '1': 0.4796858472604188}\n",
      "{'0': 0.6379098794161201, '1': 0.4779431986460757}\n",
      "{'0': 0.6197059445737254, '1': 0.4754363232494182}\n",
      "{'0': 0.5666675481277765, '1': 0.4571768563570975}\n",
      "{'0': 0.4765522530145969, '1': 0.1839300825047599}\n",
      "{'0': 0.4590464353712714, '1': 0.118915273958113}\n",
      "{'0': 0.4565316268246244, '1': 0.3704146393061138}\n",
      "{'0': 0.430452718426063, '1': 0.4201872223397503}\n",
      "{'0': 0.3606145546858472, '1': 0.4062195895917072}\n",
      "{'0': 0.4039771525280304, '1': 0.4249947112333403}\n",
      "{'0': 0.5210228474719696, '1': 0.4533953881954728}\n",
      "{'0': 0.5175613496932515, '1': 0.4627221281997038}\n",
      "{'0': 0.3937486778083351, '1': 0.3571213243071716}\n",
      "{'0': 0.3244843452506875, '1': 0.3222181087370425}\n",
      "{'0': 0.5220938227205415, '1': 0.4176591918764544}\n",
      "{'0': 0.7069256399407656, '1': 0.4495028559339961}\n",
      "{'0': 0.6770282420139624, '1': 0.45920245398773}\n",
      "{'0': 0.6379336788660884, '1': 0.1462476200550032}\n",
      "{'0': 0.539671038713772, '1': 0.0461101121218532}\n",
      "{'0': 0.6023085466469219, '1': 0.3304765178760313}\n",
      "{'0': 0.7023984556801354, '1': 0.4243151047175798}\n",
      "{'0': 0.6112280516183625, '1': 0.4511027078485297}\n",
      "{'0': 0.4686931457584091, '1': 0.1649830759466892}\n",
      "{'0': 0.3153056907129257, '1': 0.0808282208588957}\n",
      "{'0': 0.2347445525703406, '1': 0.2627036175163952}\n",
      "{'0': 0.2007536492489951, '1': 0.3169399196107468}\n",
      "{'0': 0.1704199280727734, '1': 0.0927173683097102}\n",
      "{'0': 0.0950470700232706, '1': 0.031647979691136}\n",
      "{'0': 0.080701290459065, '1': 0.3496509414004654}\n",
      "{'0': 0.1444705944573726, '1': 0.4459673154220435}\n",
      "{'0': 0.2716257668711657, '1': 0.4701554897397926}\n",
      "{'0': 0.4165326845779564, '1': 0.4764200338481065}\n",
      "{'0': 0.5197720541569706, '1': 0.4756320076158239}\n",
      "{'0': 0.5417812566109582, '1': 0.4712343981383541}\n",
      "{'0': 0.6313359424582187, '1': 0.4665564840279247}\n",
      "{'0': 0.6479268034694309, '1': 0.4626189972498413}\n",
      "{'0': 0.4419028982441295, '1': 0.3611407869684789}\n"
     ]
    }
   ],
   "source": [
    "for i in range(100):\n",
    "    print(eegsignals_dataset['train'][i])"
   ]
  },
  {
   "cell_type": "code",
   "execution_count": 15,
   "metadata": {},
   "outputs": [],
   "source": [
    "# %pip install soundfile -i https://pypi.tuna.tsinghua.edu.cn/simple\n",
    "# %pip install librosa -i https://pypi.tuna.tsinghua.edu.cn/simple"
   ]
  },
  {
   "cell_type": "code",
   "execution_count": 16,
   "metadata": {},
   "outputs": [
    {
     "data": {
      "application/vnd.jupyter.widget-view+json": {
       "model_id": "cfa0cc63843e4e9983b2a21fe5785c42",
       "version_major": 2,
       "version_minor": 0
      },
      "text/plain": [
       "Resolving data files:   0%|          | 0/30 [00:00<?, ?it/s]"
      ]
     },
     "metadata": {},
     "output_type": "display_data"
    },
    {
     "name": "stdout",
     "output_type": "stream",
     "text": [
      "DatasetDict({\n",
      "    train: Dataset({\n",
      "        features: ['audio', 'label'],\n",
      "        num_rows: 30\n",
      "    })\n",
      "})\n"
     ]
    }
   ],
   "source": [
    "from datasets import load_dataset\n",
    "speech_dataset = load_dataset(path=r'datasets\\dataset_BME_depression\\speech')\n",
    "print(speech_dataset)"
   ]
  },
  {
   "cell_type": "code",
   "execution_count": 17,
   "metadata": {},
   "outputs": [
    {
     "name": "stdout",
     "output_type": "stream",
     "text": [
      "{'audio': {'path': 'C:\\\\Users\\\\wbh\\\\Desktop\\\\practice\\\\datasets\\\\dataset_BME_depression\\\\speech\\\\train\\\\01\\\\speech16k_p.wav', 'array': array([0., 0., 0., ..., 0., 0., 0.]), 'sampling_rate': 16000}, 'label': 0}\n",
      "{'audio': {'path': 'C:\\\\Users\\\\wbh\\\\Desktop\\\\practice\\\\datasets\\\\dataset_BME_depression\\\\speech\\\\train\\\\02\\\\speech16k_p.wav', 'array': array([ 0.00000000e+00,  0.00000000e+00,  0.00000000e+00, ...,\n",
      "        9.15527344e-05, -1.83105469e-04,  3.05175781e-05]), 'sampling_rate': 16000}, 'label': 1}\n",
      "{'audio': {'path': 'C:\\\\Users\\\\wbh\\\\Desktop\\\\practice\\\\datasets\\\\dataset_BME_depression\\\\speech\\\\train\\\\03\\\\speech16k_p.wav', 'array': array([ 0.00000000e+00,  0.00000000e+00,  0.00000000e+00, ...,\n",
      "       -9.15527344e-05, -6.10351562e-05, -3.05175781e-05]), 'sampling_rate': 16000}, 'label': 2}\n",
      "{'audio': {'path': 'C:\\\\Users\\\\wbh\\\\Desktop\\\\practice\\\\datasets\\\\dataset_BME_depression\\\\speech\\\\train\\\\04\\\\speech16k_p.wav', 'array': array([ 0.00000000e+00,  0.00000000e+00,  0.00000000e+00, ...,\n",
      "        3.05175781e-05,  3.05175781e-05, -3.05175781e-05]), 'sampling_rate': 16000}, 'label': 3}\n",
      "{'audio': {'path': 'C:\\\\Users\\\\wbh\\\\Desktop\\\\practice\\\\datasets\\\\dataset_BME_depression\\\\speech\\\\train\\\\05\\\\speech16k_p.wav', 'array': array([ 0.        ,  0.        ,  0.        , ..., -0.00012207,\n",
      "       -0.00018311, -0.00021362]), 'sampling_rate': 16000}, 'label': 4}\n",
      "{'audio': {'path': 'C:\\\\Users\\\\wbh\\\\Desktop\\\\practice\\\\datasets\\\\dataset_BME_depression\\\\speech\\\\train\\\\06\\\\speech16k_p.wav', 'array': array([ 0.        ,  0.        ,  0.        , ..., -0.03671265,\n",
      "       -0.0418396 , -0.03271484]), 'sampling_rate': 16000}, 'label': 5}\n",
      "{'audio': {'path': 'C:\\\\Users\\\\wbh\\\\Desktop\\\\practice\\\\datasets\\\\dataset_BME_depression\\\\speech\\\\train\\\\07\\\\speech16k_p.wav', 'array': array([0., 0., 0., ..., 0., 0., 0.]), 'sampling_rate': 16000}, 'label': 6}\n",
      "{'audio': {'path': 'C:\\\\Users\\\\wbh\\\\Desktop\\\\practice\\\\datasets\\\\dataset_BME_depression\\\\speech\\\\train\\\\08\\\\speech16k_p.wav', 'array': array([0., 0., 0., ..., 0., 0., 0.]), 'sampling_rate': 16000}, 'label': 7}\n",
      "{'audio': {'path': 'C:\\\\Users\\\\wbh\\\\Desktop\\\\practice\\\\datasets\\\\dataset_BME_depression\\\\speech\\\\train\\\\09\\\\speech16k_p.wav', 'array': array([0.        , 0.        , 0.        , ..., 0.00045776, 0.00137329,\n",
      "       0.00244141]), 'sampling_rate': 16000}, 'label': 8}\n",
      "{'audio': {'path': 'C:\\\\Users\\\\wbh\\\\Desktop\\\\practice\\\\datasets\\\\dataset_BME_depression\\\\speech\\\\train\\\\10\\\\speech16k_p.wav', 'array': array([0., 0., 0., ..., 0., 0., 0.]), 'sampling_rate': 16000}, 'label': 9}\n",
      "{'audio': {'path': 'C:\\\\Users\\\\wbh\\\\Desktop\\\\practice\\\\datasets\\\\dataset_BME_depression\\\\speech\\\\train\\\\11\\\\speech16k_p.wav', 'array': array([ 0.00000000e+00,  0.00000000e+00,  0.00000000e+00, ...,\n",
      "       -6.10351562e-05, -1.28173828e-03, -2.16674805e-03]), 'sampling_rate': 16000}, 'label': 10}\n",
      "{'audio': {'path': 'C:\\\\Users\\\\wbh\\\\Desktop\\\\practice\\\\datasets\\\\dataset_BME_depression\\\\speech\\\\train\\\\12\\\\speech16k_p.wav', 'array': array([ 0.        ,  0.        ,  0.        , ..., -0.00247192,\n",
      "       -0.00189209, -0.00109863]), 'sampling_rate': 16000}, 'label': 11}\n",
      "{'audio': {'path': 'C:\\\\Users\\\\wbh\\\\Desktop\\\\practice\\\\datasets\\\\dataset_BME_depression\\\\speech\\\\train\\\\13\\\\speech16k_p.wav', 'array': array([ 0.        ,  0.        ,  0.        , ...,  0.00021362,\n",
      "        0.00057983, -0.00192261]), 'sampling_rate': 16000}, 'label': 12}\n",
      "{'audio': {'path': 'C:\\\\Users\\\\wbh\\\\Desktop\\\\practice\\\\datasets\\\\dataset_BME_depression\\\\speech\\\\train\\\\14\\\\speech16k_p.wav', 'array': array([ 0.00000000e+00,  0.00000000e+00,  0.00000000e+00, ...,\n",
      "        0.00000000e+00, -3.05175781e-05,  0.00000000e+00]), 'sampling_rate': 16000}, 'label': 13}\n",
      "{'audio': {'path': 'C:\\\\Users\\\\wbh\\\\Desktop\\\\practice\\\\datasets\\\\dataset_BME_depression\\\\speech\\\\train\\\\15\\\\speech16k_p.wav', 'array': array([ 0.        ,  0.        ,  0.        , ...,  0.00088501,\n",
      "        0.00930786, -0.02023315]), 'sampling_rate': 16000}, 'label': 14}\n",
      "{'audio': {'path': 'C:\\\\Users\\\\wbh\\\\Desktop\\\\practice\\\\datasets\\\\dataset_BME_depression\\\\speech\\\\train\\\\16\\\\speech16k_p.wav', 'array': array([ 0.        ,  0.        ,  0.        , ...,  0.00646973,\n",
      "       -0.01220703,  0.03259277]), 'sampling_rate': 16000}, 'label': 15}\n",
      "{'audio': {'path': 'C:\\\\Users\\\\wbh\\\\Desktop\\\\practice\\\\datasets\\\\dataset_BME_depression\\\\speech\\\\train\\\\17\\\\speech16k_p.wav', 'array': array([0., 0., 0., ..., 0., 0., 0.]), 'sampling_rate': 16000}, 'label': 16}\n",
      "{'audio': {'path': 'C:\\\\Users\\\\wbh\\\\Desktop\\\\practice\\\\datasets\\\\dataset_BME_depression\\\\speech\\\\train\\\\18\\\\speech16k_p.wav', 'array': array([ 0.        ,  0.        ,  0.        , ..., -0.00152588,\n",
      "        0.01971436,  0.00097656]), 'sampling_rate': 16000}, 'label': 17}\n",
      "{'audio': {'path': 'C:\\\\Users\\\\wbh\\\\Desktop\\\\practice\\\\datasets\\\\dataset_BME_depression\\\\speech\\\\train\\\\19\\\\speech16k_p.wav', 'array': array([0.        , 0.        , 0.        , ..., 0.00335693, 0.00167847,\n",
      "       0.00268555]), 'sampling_rate': 16000}, 'label': 18}\n",
      "{'audio': {'path': 'C:\\\\Users\\\\wbh\\\\Desktop\\\\practice\\\\datasets\\\\dataset_BME_depression\\\\speech\\\\train\\\\20\\\\speech16k_p.wav', 'array': array([ 0.        ,  0.        ,  0.        , ...,  0.02423096,\n",
      "        0.01947021, -0.06869507]), 'sampling_rate': 16000}, 'label': 19}\n",
      "{'audio': {'path': 'C:\\\\Users\\\\wbh\\\\Desktop\\\\practice\\\\datasets\\\\dataset_BME_depression\\\\speech\\\\train\\\\21\\\\speech16k_p.wav', 'array': array([ 0.00000000e+00,  0.00000000e+00,  0.00000000e+00, ...,\n",
      "       -3.05175781e-05,  1.22070312e-04, -1.22070312e-04]), 'sampling_rate': 16000}, 'label': 20}\n",
      "{'audio': {'path': 'C:\\\\Users\\\\wbh\\\\Desktop\\\\practice\\\\datasets\\\\dataset_BME_depression\\\\speech\\\\train\\\\22\\\\speech16k_p.wav', 'array': array([ 0.        ,  0.        ,  0.        , ...,  0.00271606,\n",
      "       -0.0062561 ,  0.01257324]), 'sampling_rate': 16000}, 'label': 21}\n",
      "{'audio': {'path': 'C:\\\\Users\\\\wbh\\\\Desktop\\\\practice\\\\datasets\\\\dataset_BME_depression\\\\speech\\\\train\\\\23\\\\speech16k_p.wav', 'array': array([ 0.        ,  0.        ,  0.        , ..., -0.0005188 ,\n",
      "       -0.00146484, -0.00354004]), 'sampling_rate': 16000}, 'label': 22}\n",
      "{'audio': {'path': 'C:\\\\Users\\\\wbh\\\\Desktop\\\\practice\\\\datasets\\\\dataset_BME_depression\\\\speech\\\\train\\\\24\\\\speech16k_p.wav', 'array': array([0., 0., 0., ..., 0., 0., 0.]), 'sampling_rate': 16000}, 'label': 23}\n",
      "{'audio': {'path': 'C:\\\\Users\\\\wbh\\\\Desktop\\\\practice\\\\datasets\\\\dataset_BME_depression\\\\speech\\\\train\\\\25\\\\speech16k_p.wav', 'array': array([0.        , 0.        , 0.        , ..., 0.01031494, 0.01135254,\n",
      "       0.00930786]), 'sampling_rate': 16000}, 'label': 24}\n",
      "{'audio': {'path': 'C:\\\\Users\\\\wbh\\\\Desktop\\\\practice\\\\datasets\\\\dataset_BME_depression\\\\speech\\\\train\\\\26\\\\speech16k_p.wav', 'array': array([0., 0., 0., ..., 0., 0., 0.]), 'sampling_rate': 16000}, 'label': 25}\n",
      "{'audio': {'path': 'C:\\\\Users\\\\wbh\\\\Desktop\\\\practice\\\\datasets\\\\dataset_BME_depression\\\\speech\\\\train\\\\27\\\\speech16k_p.wav', 'array': array([ 0.00000000e+00,  0.00000000e+00,  0.00000000e+00, ...,\n",
      "        0.00000000e+00, -3.05175781e-05,  0.00000000e+00]), 'sampling_rate': 16000}, 'label': 26}\n",
      "{'audio': {'path': 'C:\\\\Users\\\\wbh\\\\Desktop\\\\practice\\\\datasets\\\\dataset_BME_depression\\\\speech\\\\train\\\\28\\\\speech16k_p.wav', 'array': array([ 0.00000000e+00,  0.00000000e+00,  0.00000000e+00, ...,\n",
      "       -3.05175781e-05,  0.00000000e+00,  0.00000000e+00]), 'sampling_rate': 16000}, 'label': 27}\n",
      "{'audio': {'path': 'C:\\\\Users\\\\wbh\\\\Desktop\\\\practice\\\\datasets\\\\dataset_BME_depression\\\\speech\\\\train\\\\29\\\\speech16k_p.wav', 'array': array([ 0.00000000e+00, -3.05175781e-05,  0.00000000e+00, ...,\n",
      "       -3.05175781e-05,  1.22070312e-04, -6.10351562e-05]), 'sampling_rate': 16000}, 'label': 28}\n",
      "{'audio': {'path': 'C:\\\\Users\\\\wbh\\\\Desktop\\\\practice\\\\datasets\\\\dataset_BME_depression\\\\speech\\\\train\\\\30\\\\speech16k_p.wav', 'array': array([0., 0., 0., ..., 0., 0., 0.]), 'sampling_rate': 16000}, 'label': 29}\n"
     ]
    }
   ],
   "source": [
    "for i in range(30):\n",
    "    print(speech_dataset['train'][i])\n"
   ]
  },
  {
   "cell_type": "markdown",
   "metadata": {},
   "source": [
    "# 升维 embedding"
   ]
  },
  {
   "cell_type": "code",
   "execution_count": 18,
   "metadata": {},
   "outputs": [
    {
     "name": "stdout",
     "output_type": "stream",
     "text": [
      "eeg shape: torch.Size([1, 8]), eeg: [[83, 97, 48, 48, 16, 25, 85, 75]]\n",
      "eeg shape: torch.Size([1, 8, 8]), eeg embedding: [[[-0.9424916505813599, -0.8333597183227539, 0.22710354626178741, 0.12347309291362762, -1.2109956741333008, -1.1217107772827148, -0.6902930736541748, -2.6648736000061035], [-0.6071589589118958, -1.7549678087234497, -1.900000810623169, -0.9534710049629211, -0.20677782595157623, -0.63863605260849, 0.7983936667442322, -0.7837488651275635], [1.726285696029663, 0.6804820895195007, 0.8101767301559448, -0.9029566049575806, 0.9987971782684326, -0.14470165967941284, -1.875096321105957, -1.8425641059875488], [1.726285696029663, 0.6804820895195007, 0.8101767301559448, -0.9029566049575806, 0.9987971782684326, -0.14470165967941284, -1.875096321105957, -1.8425641059875488], [1.3803194761276245, 0.2658138871192932, 1.9802844524383545, -0.7323806285858154, 0.6825874447822571, 0.5139338970184326, -0.9960446953773499, -0.7355973720550537], [0.6077145934104919, -0.4566383361816406, -2.360499620437622, 0.789973795413971, -0.04139016568660736, 1.1170786619186401, 0.8764326572418213, -1.2209968566894531], [-0.12346065044403076, 0.8322551250457764, -2.44997239112854, -1.1189223527908325, 0.0578141063451767, 1.2924163341522217, -0.07970784604549408, 0.8848106265068054], [-0.4883511960506439, -0.2620496451854706, 1.1703846454620361, -2.9217379093170166, -0.06097278371453285, -0.9872098565101624, 0.22109071910381317, 1.1042358875274658]]]\n"
     ]
    }
   ],
   "source": [
    "#将三个数据集的数据升维\n",
    "import torch\n",
    "from torch import nn\n",
    "from torch.nn import functional as F\n",
    "\n",
    "class Embedding(nn.Module):\n",
    "    def __init__(self, config):\n",
    "        super().__init__()\n",
    "        # 第一个模态的embedding\n",
    "        self.eeg_embedding = nn.Embedding(100, config.hidden_size)\n",
    "        # 第二个模态的embedding\n",
    "        self.ecg_embedding = nn.Embedding(100, config.hidden_size)\n",
    "        # 第三个模态的embedding\n",
    "        self.speech_embedding = nn.Embedding(100, config.hidden_size)\n",
    "\n",
    "    def forward(self, eeg, ecg, speech):\n",
    "        eeg = self.eeg_embedding(eeg)\n",
    "        ecg = self.ecg_embedding(ecg)\n",
    "        speech = self.speech_embedding(speech)\n",
    "        return eeg, ecg, speech\n",
    "\n",
    "class Config:\n",
    "    hidden_size = 8\n",
    "\n",
    "config = Config()\n",
    "embedding = Embedding(config)\n",
    "\n",
    "# 随机生成一些数据\n",
    "eeg = torch.randint(0, 100, (1, 8))\n",
    "ecg = torch.randint(0, 100, (1, 8))\n",
    "speech = torch.randint(0, 100, (32, 8))\n",
    "print(f'eeg shape: {eeg.shape}, eeg: {eeg.tolist()}')\n",
    "# print(f'ecg shape: {ecg.shape}, ecg: {ecg}')\n",
    "# print(f'speech shape: {speech.shape}, speech: {speech}')\n",
    "\n",
    "# 传入模型\n",
    "eeg, ecg, speech = embedding(eeg, ecg, speech)\n",
    "print(f'eeg shape: {eeg.shape}, eeg embedding: {eeg.tolist()}')\n",
    "# print(f'ecg shape: {ecg.shape}, ecg embedding: {ecg}')\n",
    "# print(f'speech shape: {speech.shape}, speech embedding: {speech}')"
   ]
  },
  {
   "cell_type": "markdown",
   "metadata": {},
   "source": [
    "# 将升维后的数据传入mamba"
   ]
  },
  {
   "cell_type": "code",
   "execution_count": 19,
   "metadata": {},
   "outputs": [],
   "source": [
    "\n",
    "import math\n",
    "from transformers.configuration_utils import PretrainedConfig\n",
    "class MambaConfig(PretrainedConfig):\n",
    "    model_type = \"wbh_mamba\"\n",
    "\n",
    "    def __init__(\n",
    "        self,\n",
    "        vocab_size=50280,\n",
    "        hidden_size=128,\n",
    "        state_size=16,\n",
    "        num_hidden_layers=2,\n",
    "        layer_norm_epsilon=1e-5,\n",
    "        pad_token_id=0,\n",
    "        bos_token_id=0,\n",
    "        eos_token_id=0,\n",
    "        expand=2,\n",
    "        num_head=16,\n",
    "        conv_kernel=4,\n",
    "        use_bias=False,\n",
    "        use_conv_bias=True,\n",
    "        hidden_act=\"silu\",\n",
    "        initializer_range=0.1,\n",
    "        residual_in_fp32=True,\n",
    "        time_step_rank=\"auto\",\n",
    "        time_step_scale=1.0,\n",
    "        time_step_min=0.001,\n",
    "        time_step_max=0.1,\n",
    "        time_step_init_scheme=\"random\",\n",
    "        time_step_floor=1e-4,\n",
    "        rescale_prenorm_residual=False,\n",
    "        use_cache=True,\n",
    "        **kwargs,\n",
    "    ):\n",
    "        self.num_head = num_head\n",
    "        self.vocab_size = vocab_size\n",
    "        self.hidden_size = hidden_size\n",
    "        self.state_size = state_size\n",
    "        self.num_hidden_layers = num_hidden_layers\n",
    "        self.layer_norm_epsilon = layer_norm_epsilon\n",
    "        self.conv_kernel = conv_kernel\n",
    "        self.expand = expand\n",
    "        self.intermediate_size = int(expand * self.hidden_size)\n",
    "        self.bos_token_id = bos_token_id\n",
    "        self.eos_token_id = eos_token_id\n",
    "        self.pad_token_id = pad_token_id\n",
    "        self.use_bias = use_bias\n",
    "        self.use_conv_bias = use_conv_bias\n",
    "        self.hidden_act = hidden_act\n",
    "        self.initializer_range = initializer_range\n",
    "        self.time_step_rank = math.ceil(self.hidden_size / 16) if time_step_rank == \"auto\" else time_step_rank\n",
    "        self.time_step_scale = time_step_scale\n",
    "        self.time_step_min = time_step_min\n",
    "        self.time_step_max = time_step_max\n",
    "        self.time_step_init_scheme = time_step_init_scheme\n",
    "        self.time_step_floor = time_step_floor\n",
    "        self.rescale_prenorm_residual = rescale_prenorm_residual\n",
    "        self.residual_in_fp32 = residual_in_fp32\n",
    "        self.use_cache = use_cache\n",
    "\n",
    "        super().__init__(bos_token_id=bos_token_id, eos_token_id=eos_token_id, pad_token_id=pad_token_id, **kwargs)\n"
   ]
  },
  {
   "cell_type": "code",
   "execution_count": 20,
   "metadata": {},
   "outputs": [
    {
     "name": "stderr",
     "output_type": "stream",
     "text": [
      "The fast path is not available because on of `(selective_state_update, selective_scan_fn, causal_conv1d_fn, causal_conv1d_update, mamba_inner_fn)` is None. Falling back to the naive implementation. To install follow https://github.com/state-spaces/mamba/#installation and https://github.com/Dao-AILab/causal-conv1d\n"
     ]
    },
    {
     "name": "stdout",
     "output_type": "stream",
     "text": [
      "eeg shape: torch.Size([1, 8, 128]), eeg: [[[-0.013176601380109787, 0.023608233779668808, -0.08729097247123718, -0.021157769486308098, -0.05126519128680229, -0.03733675181865692, -0.049941979348659515, 0.04307714104652405, -0.010570154525339603, 0.022333700209856033, -0.023679092526435852, -0.009606931358575821, 0.008662533015012741, -0.03669866919517517, 0.003793584881350398, 0.004551073536276817, 0.021469291299581528, -0.06460259854793549, 0.015715396031737328, -0.014376824721693993, -0.05931731313467026, -0.0010309182107448578, 0.05820605158805847, 0.02306419610977173, -0.04987718537449837, 0.02147725224494934, -0.01613585650920868, 0.06712225824594498, 0.0036064579617232084, -0.02575691044330597, -0.036744289100170135, 0.05764574557542801, -0.030053067952394485, -0.024496374651789665, 0.002878967672586441, -0.037096742540597916, -0.021491805091500282, -0.03322418034076691, -0.007378876209259033, 0.022179899737238884, 0.029619010165333748, -0.015567895025014877, 0.01543506234884262, 0.07166904956102371, 0.030840296298265457, -0.04717257246375084, 0.006469897925853729, 0.022342650219798088, -0.0270070880651474, -0.0478639155626297, -0.01663503795862198, -0.03415728360414505, -0.004114688374102116, -0.013593479990959167, 0.040296584367752075, 0.017757082358002663, -0.04963967576622963, -0.017033396288752556, 0.01189548708498478, -0.04226614534854889, 0.052310213446617126, 0.026400437578558922, -0.007971595972776413, 0.04904605448246002, -0.019844308495521545, 0.0759216845035553, -0.031230123713612556, 0.07794642448425293, 0.03639863803982735, -0.006354073062539101, -0.020953044295310974, -0.06155654042959213, 0.02665441296994686, -0.06282369047403336, 0.03624842315912247, -0.01169300451874733, 0.022086074575781822, -0.03954973816871643, -0.008195603266358376, 0.009896855801343918, -0.04179120808839798, -0.07898928970098495, -0.025704246014356613, 0.04781496524810791, 0.03274163603782654, -0.008755681104958057, -0.006866408511996269, -0.0019027004018425941, -0.0013319049030542374, 0.05425073578953743, -0.02060180902481079, -0.016109831631183624, -0.03158479556441307, -0.05234185978770256, 0.04360213130712509, 0.028408309444785118, -0.04919794201850891, -0.012557342648506165, -0.04819056764245033, -0.010174732655286789, 0.011092939414083958, -0.03936520591378212, 0.03337615728378296, 0.010667156428098679, -0.047220803797245026, 0.0318731889128685, 0.049607016146183014, 0.06220212206244469, 0.021920159459114075, -0.015500993467867374, -0.0016268342733383179, -0.027936499565839767, 0.01864905282855034, 0.05617612972855568, 0.010029854252934456, 0.04048699885606766, -0.016872577369213104, -0.06182980537414551, -0.00928876455873251, 0.026654615998268127, 0.008585702627897263, 0.029035793617367744, -0.023546243086457253, 0.0039388989098370075, -0.01528532151132822, 0.00959656573832035, 0.04197870194911957, -0.02194560132920742], [0.014999669045209885, 0.00035815872251987457, 0.010140728205442429, -0.017764026299118996, 0.007748743984848261, -0.0330435186624527, -0.0008814632892608643, 0.012317325919866562, -0.02420715242624283, -0.05672575533390045, -0.026291904971003532, 0.007554554380476475, 0.029544349759817123, 0.027814418077468872, -0.027502862736582756, 0.00810096226632595, -0.009973493404686451, -0.00413283659145236, -0.04014936089515686, 0.007696911692619324, -0.03800535947084427, 0.013557054102420807, -0.008151356130838394, -0.0014128442853689194, -0.05801176279783249, 0.00885513424873352, 0.0003911837702617049, 0.017066579312086105, -0.01977495849132538, -0.0400150828063488, -0.034167420119047165, -0.02675345353782177, 0.013158943504095078, -0.014170726761221886, 0.038883596658706665, 0.02971615642309189, 0.025868162512779236, 0.009957149624824524, -0.024096941575407982, 0.06119078770279884, -0.018877577036619186, -0.02163424901664257, -0.00044605880975723267, 0.044442009180784225, -0.035282716155052185, -0.0024328874424099922, -0.006081247702240944, -0.03928254544734955, 0.028037812560796738, 0.02759445831179619, -0.024585088714957237, -0.03109467588365078, 0.006019212305545807, 0.00896155834197998, -0.00829753652215004, -0.01393653079867363, -0.00860646553337574, 0.019424866884946823, -0.005596823990345001, -0.019968999549746513, -0.02386469952762127, 0.0405275896191597, -0.003611871972680092, 0.009138932451605797, 0.026968425139784813, -0.0022463519126176834, -0.00708332285284996, -0.026779208332300186, 0.07493510842323303, -0.01510536763817072, 0.004404131323099136, -0.04919417202472687, 0.03283291682600975, 0.03732423856854439, -0.001721646636724472, 0.01693841814994812, 0.021923784166574478, -0.008647259324789047, -0.0016808751970529556, 0.03730396926403046, -0.007497026119381189, 0.025223758071660995, -0.046857692301273346, -0.017643097788095474, -0.03731844201683998, 0.021830551326274872, 0.035130858421325684, 0.01136464811861515, 0.0005345502868294716, -0.00450043473392725, 0.028920352458953857, 0.03372146561741829, 0.017558373510837555, -0.033462248742580414, 0.04674277827143669, 0.024025071412324905, 0.014345507137477398, -0.003946536220610142, -0.045530520379543304, -0.03991812467575073, -0.034228384494781494, -0.013603429310023785, 0.007727873045951128, 0.011797217652201653, -0.01139025017619133, 0.06307468563318253, 0.0009630299173295498, -0.007089211605489254, 0.02296701818704605, -0.055836793035268784, 0.04194550961256027, -0.0019898337777704, -0.014267086051404476, 0.008645767346024513, 0.01484338566660881, 0.08823034167289734, 0.014819730073213577, -0.011270222254097462, -0.0031215103808790445, -0.05452405661344528, 0.011232379823923111, -0.0245964415371418, 0.002930963411927223, -0.03166581690311432, -0.004910812713205814, 0.007489712908864021, -0.05342560634016991, -0.00847570039331913], [0.04960167780518532, 0.046223994344472885, -0.043421655893325806, 0.013540823943912983, 0.0151361720636487, 0.0702592134475708, -0.04790549725294113, -0.013755593448877335, 0.017003048211336136, -0.003791775554418564, 0.017459988594055176, 0.001652611419558525, 0.02058994397521019, 0.010303775779902935, 0.022749749943614006, 0.057494062930345535, 0.054620906710624695, 0.03638974949717522, -0.009987270459532738, -0.006010855548083782, -0.004889932461082935, -0.01026671752333641, 0.027412086725234985, 0.03729353845119476, 0.021985452622175217, 0.012755554169416428, -0.002486560493707657, 0.009516415186226368, 0.0721379816532135, 0.003172527998685837, -0.052383050322532654, 0.04265817999839783, 0.107760950922966, 0.03071056865155697, 0.005914501845836639, -0.001954156905412674, 0.018505379557609558, -0.027417123317718506, 0.013197900727391243, 0.08435560762882233, 0.015108900144696236, -0.021990925073623657, -0.007472592405974865, 0.01007016934454441, 0.05352216213941574, 0.08431224524974823, -0.0203392393887043, -0.0500243604183197, 0.007841227576136589, -0.05510646477341652, -0.0623733215034008, 0.003790217684581876, 1.3573095202445984e-05, -0.029934577643871307, -0.013714959844946861, -0.096520334482193, 0.012800473719835281, 0.013296104967594147, -0.005914868321269751, -0.027476852759718895, 0.017765739932656288, -0.041330352425575256, -0.002827327698469162, 0.0011572390794754028, -0.06184256821870804, -0.02327081747353077, -0.041859641671180725, 0.009674704633653164, 0.08413015305995941, 0.013641616329550743, 0.015722665935754776, -0.02725280076265335, 0.023354100063443184, -0.011444946750998497, 0.046998441219329834, -0.0002321675419807434, -0.030002407729625702, -0.009992271661758423, -0.0466456338763237, 0.011004528030753136, 0.050795406103134155, 0.021586041897535324, 0.050714168697595596, 0.03259054571390152, -0.06976285576820374, -0.05776402726769447, 0.042796287685632706, -0.01520533300936222, 0.01928732544183731, 0.013467425480484962, -0.043288275599479675, -0.05220112204551697, 0.07000650465488434, 0.028816847130656242, -0.07460483908653259, 0.016434594988822937, 0.03883671760559082, -0.0139091107994318, -0.007132003083825111, 0.0017649009823799133, 0.03690542280673981, 0.027337782084941864, -0.10560031235218048, -0.025700289756059647, 0.0449037104845047, 0.06936454772949219, -0.04273912310600281, -0.021258240565657616, 0.009304819628596306, -0.029748184606432915, 0.04663664475083351, 0.06685763597488403, 0.030581437051296234, 0.11114437878131866, 0.03575528413057327, 0.041487060487270355, -0.02820810303092003, 0.06833367049694061, 0.07690984755754471, -0.0014372263103723526, 0.008512821048498154, -0.08369088917970657, 0.024261796846985817, -0.023738861083984375, 0.03754201531410217, 0.03377748653292656, 0.011848531663417816, 0.009220322594046593], [0.0008288086391985416, -0.0354047566652298, 0.11179407685995102, 0.029994292184710503, -0.0038656475953757763, -0.029250262305140495, 0.03314065560698509, -0.06779502332210541, -0.02551962062716484, -0.03420364856719971, 0.012773212045431137, -0.01895999349653721, -0.038362450897693634, 0.06307897716760635, -0.008457662537693977, -0.038030605763196945, -0.021742241457104683, 0.005152590572834015, 0.023549053817987442, 0.09821231663227081, -0.029777847230434418, 0.04232371971011162, 0.009059328585863113, 0.07806570827960968, -0.00867711566388607, -0.0198209248483181, 0.0051976097747683525, -0.032006487250328064, 0.009390590712428093, -0.027920804917812347, -0.036726437509059906, -0.00907166488468647, 0.022649085149168968, -0.04147259145975113, 0.012965350411832333, 0.018463898450136185, 0.013217885047197342, 0.0772269070148468, -0.02765226736664772, -0.007033768109977245, -0.03182453662157059, -0.04982892423868179, 0.09041832387447357, 0.004975821357220411, 0.016761578619480133, -0.006326362490653992, 0.05010297894477844, 0.02421601116657257, 0.07102137058973312, -0.06250100582838058, -0.0020001158118247986, 0.06555530428886414, 0.06443139165639877, -0.07408735156059265, -0.00909322127699852, -0.021872323006391525, 0.0388665609061718, -0.032706186175346375, -0.026307038962841034, -0.036315031349658966, 0.04649720713496208, -0.034144625067710876, 0.08031483739614487, -0.00785369984805584, -0.02182375080883503, 0.0035403205547481775, 0.08182719349861145, 0.016784576699137688, 0.014049198478460312, 0.002831200137734413, 0.038303423672914505, -0.008538023568689823, -0.07097052782773972, -0.005434811115264893, 0.05160249397158623, -0.005507737398147583, -0.016172058880329132, 0.006903037428855896, 0.0012629050761461258, -0.057671189308166504, 0.00917629525065422, -0.008296260610222816, -0.005421111825853586, -0.042661506682634354, -0.014073789119720459, -0.01562836766242981, 0.008374018594622612, 0.018599500879645348, 0.03124399110674858, -0.05142578110098839, 0.06847283989191055, 0.0347740612924099, 0.003395664505660534, 0.07482049614191055, 0.014425167813897133, 0.033039189875125885, -0.008851556107401848, 0.0225050188601017, 0.003957260400056839, 0.0901401937007904, -0.009367791935801506, -0.0729280561208725, 0.01798614300787449, -0.0021102838218212128, -0.026111260056495667, 0.045962780714035034, -0.08523111790418625, 0.00805680826306343, -0.0008208025246858597, 0.020282728597521782, 0.05764895677566528, 0.001570357009768486, -0.04770098254084587, 0.04659179225564003, -0.05990559235215187, -0.04332863539457321, 0.06518065929412842, -0.009101764298975468, -0.01849966309964657, -0.022306950762867928, -0.06303652375936508, -0.052373938262462616, -0.05941134691238403, -0.017789684236049652, -0.01492047868669033, -0.007783656939864159, -0.05521290376782417, -0.05015457421541214], [0.09863878786563873, -0.01660117134451866, -0.023497268557548523, 0.021255919709801674, -5.903281271457672e-05, -0.005361417308449745, 0.011591674759984016, -0.013150399550795555, 0.003188277129083872, 0.0023246174678206444, 0.04596215859055519, 0.05586559697985649, 0.06047767028212547, -0.06322973221540451, 0.016649600118398666, -0.0465429425239563, -0.0784687027335167, -0.022067254409193993, -0.043147046118974686, 0.016551004722714424, 0.13870073854923248, -0.04629189893603325, -0.05156268924474716, 0.025252828374505043, 0.06794608384370804, -0.11475624889135361, 0.1138421893119812, 0.005051935091614723, -0.0026857019402086735, 0.013370448723435402, -0.04370791092514992, -0.045926496386528015, 0.01071358285844326, -0.03469225764274597, -0.04277767241001129, 0.05038972944021225, 0.04059930518269539, -0.02347620204091072, -0.03413079306483269, 0.026225419715046883, -0.0107599887996912, 0.018507856875658035, -0.04503443464636803, 0.013898799195885658, 0.04381590336561203, 0.04932236671447754, 0.028782866895198822, -0.049709536135196686, -0.10970653593540192, -0.017741184681653976, 0.07532104849815369, 0.055850252509117126, 0.03692964091897011, -0.022821376100182533, -0.06237497180700302, -0.03079322725534439, 0.044857293367385864, 0.027479687705636024, -0.048660844564437866, -0.06269348412752151, -0.053897544741630554, -0.08126672357320786, 0.04919559508562088, -0.00013015419244766235, -0.05052328109741211, 0.010353666730225086, 0.021718716248869896, 0.02866603247821331, -0.01078287698328495, 0.02102096937596798, 0.017841607332229614, -0.01840406283736229, -0.04124488681554794, 0.049834243953228, 0.01693461462855339, 0.05750727280974388, -0.05157843232154846, -0.03386383503675461, 0.035957127809524536, -0.03200509399175644, 0.034541212022304535, 0.10628724098205566, 0.06285487115383148, -0.020879147574305534, 0.001957647269591689, 0.0810827761888504, -0.004303480498492718, 0.05531728267669678, -0.0382930189371109, -0.08481316268444061, 0.03377501294016838, 0.0478888563811779, 0.06964509189128876, -0.010315561667084694, -0.07995942234992981, 0.02135780267417431, 0.05142652243375778, -0.05556409806013107, -0.011223816312849522, -0.032397668808698654, 0.03182927891612053, -0.05077537149190903, 0.0066147311590611935, -0.03225494921207428, 0.04899272322654724, 0.0015888083726167679, -0.04779826104640961, -0.0012851753272116184, 0.010413490235805511, -0.0032699257135391235, 0.0062210094183683395, 0.02201348915696144, -0.03304140269756317, 0.033709816634655, 0.0686941146850586, -0.006810842081904411, -0.05015871673822403, 0.06346199661493301, 0.053947292268276215, 0.023478563874959946, -0.055124759674072266, -0.0215250663459301, 0.023617776110768318, -0.03107532672584057, -0.018814384937286377, -0.023893199861049652, 0.018533986061811447, 0.020923232659697533], [-0.10774488002061844, -0.020533302798867226, -0.008068537339568138, 0.06827319413423538, -0.05801953747868538, 0.03370962291955948, 0.04426705837249756, 0.03374258056282997, 0.021878238767385483, -0.01715734973549843, 0.04053521156311035, 0.013642311096191406, -0.07272610813379288, 0.020043952390551567, -0.029666289687156677, 0.047568246722221375, -0.07199035584926605, 0.08723081648349762, -0.03167992830276489, 0.035397883504629135, 0.01787608116865158, -0.012582451105117798, -0.038568638265132904, -0.05446541681885719, 0.18387505412101746, -0.052601270377635956, -0.029308579862117767, 0.02200799062848091, 0.033231448382139206, -0.030510414391756058, 0.017229612916707993, 0.0209115631878376, 0.006493524648249149, 0.031933512538671494, 0.006338838487863541, -0.048657648265361786, -0.025280332192778587, 0.01499553769826889, 0.08682142198085785, -0.10166089236736298, 0.06743420660495758, -0.04466571286320686, -0.03981570154428482, -0.04909244179725647, -0.032957423478364944, -0.10128726810216904, -0.08542152494192123, 0.049219127744436264, -0.044965241104364395, -0.03412380442023277, 0.05503516271710396, -0.06478474289178848, -0.010402292013168335, 0.04585842415690422, 0.07867728173732758, -0.05860842764377594, 0.04411507397890091, 0.04840516671538353, 0.01760261319577694, -0.08286973834037781, -0.06401859223842621, 0.0960884839296341, -0.0689823254942894, -0.04077903553843498, -0.028794636949896812, -0.011959843337535858, 0.03876090794801712, 0.082036092877388, -0.07115776836872101, 0.040346864610910416, -0.018537014722824097, -0.010706573724746704, 0.048440709710121155, -0.03464239835739136, -0.010395683348178864, -0.006982625462114811, -0.054312847554683685, 0.11121556907892227, -0.03690759837627411, -0.1019732654094696, 0.03641656041145325, -0.019864847883582115, -0.06393037736415863, -0.02402179315686226, 0.1019214540719986, 0.004369886592030525, -0.024676380679011345, -0.007116202265024185, -0.03291898965835571, 0.010127886198461056, 0.04028709605336189, -0.0398382842540741, -0.00623950595036149, 0.08178143203258514, 0.04972252994775772, 0.059862181544303894, 0.03782796114683151, -0.03979581594467163, -0.006634490564465523, 0.0367705300450325, 0.018145481124520302, -0.10395000874996185, -0.017771149054169655, -7.475540041923523e-05, 0.03703320398926735, -0.023707490414381027, -0.008844909258186817, 0.023054812103509903, 0.009938515722751617, -0.020545370876789093, 0.07061183452606201, -0.019234921783208847, -0.00590098462998867, -0.015020424500107765, -0.005761440843343735, -0.04136192426085472, 0.06304021179676056, -0.0028190352022647858, 0.0009321747347712517, -0.002271655946969986, 0.03325261175632477, -0.008330561220645905, -0.013165324926376343, 0.01155877485871315, 0.016641372814774513, -0.08613382279872894, 0.011962173506617546, 0.03504496067762375], [0.040537279099226, 0.024817608296871185, 0.062360554933547974, -0.007494539953768253, 0.03401968628168106, 0.025850793346762657, -0.06540391594171524, -0.038485798984766006, -0.014150658622384071, -0.04992387816309929, -0.021707650274038315, 0.0047140540555119514, -0.022690095007419586, 0.0037007699720561504, -0.04338247328996658, -0.0018557161092758179, -0.00892568938434124, -0.01444807555526495, 0.019598431885242462, 0.04016443341970444, -0.025840632617473602, -0.018135564401745796, 0.004603169858455658, 0.07027243822813034, 0.06620971858501434, -0.009838346391916275, -0.05374221131205559, 0.061776138842105865, 0.04297437518835068, 0.0227973610162735, 0.06257198750972748, 0.06550828367471695, -0.0024846221785992384, 0.03428179770708084, 0.017792638391256332, -0.04949257895350456, 0.016628453508019447, -0.015043508261442184, 0.0708819180727005, -0.004477018490433693, 0.04066707193851471, 0.004391685128211975, 0.010265229269862175, -0.029836980625987053, -0.07404837757349014, 0.0293838270008564, -0.02467147633433342, 0.032898448407649994, 0.022241927683353424, -0.03520580381155014, 0.011493900790810585, -0.017902208492159843, -0.00795004703104496, 0.05354972183704376, 0.007635372690856457, -0.09426643699407578, -0.034808024764060974, 0.05808215215802193, -0.029130607843399048, 0.008197089657187462, 0.029136568307876587, -0.02203298732638359, 0.029293114319443703, -0.01810220442712307, 0.013082293793559074, 0.023126846179366112, -0.027094397693872452, -0.03347606211900711, -0.030812159180641174, 0.017902543768286705, -0.013883162289857864, 0.026431061327457428, 0.00587434321641922, -0.01453845202922821, 0.027097422629594803, -0.015660127624869347, 0.02085772342979908, -0.06456702202558517, -0.004866916686296463, 0.05709405615925789, 0.008292246609926224, 0.010127215646207333, -0.011069955304265022, 0.044332340359687805, -0.044371917843818665, -0.025920288637280464, 0.020131217315793037, 0.012326180934906006, -0.022884679958224297, -0.04747176170349121, 0.015502439811825752, -0.0693257749080658, -0.04645571857690811, 0.021909184753894806, 0.014453863725066185, 0.01019390020519495, -0.015363266691565514, -0.000778593122959137, 0.0015488006174564362, 0.043542858213186264, 0.012059837579727173, -0.017922673374414444, -0.029197541996836662, -0.01049779262393713, 0.004806593060493469, -0.002378895878791809, -0.007034733891487122, -0.016144663095474243, -0.02600286900997162, 0.09710238873958588, 0.00922390352934599, 0.006022904068231583, 0.004095939919352531, 0.06355391442775726, -0.04449376463890076, -0.0025896700099110603, 0.03431420028209686, 0.02914603427052498, -0.029520461335778236, 0.004313668701797724, 0.04604015126824379, -0.0441269613802433, 0.07295672595500946, 0.010569090023636818, -0.029243048280477524, 0.022033674642443657, 0.06047032028436661, -0.02596612647175789], [0.04514767602086067, -0.012465959414839745, 0.09447543323040009, -0.021701395511627197, 0.045937828719615936, -0.04788488149642944, 0.007820865139365196, 0.047413356602191925, -0.01866387575864792, 0.026337338611483574, -0.002773539163172245, 0.05086097493767738, 0.007748240604996681, 0.016852203756570816, -0.020007863640785217, 0.020708207041025162, 0.031406767666339874, 0.06170553341507912, -0.024141676723957062, -0.024996621534228325, -0.008215637877583504, 0.007371785584837198, -0.011452468112111092, -0.020128795877099037, 0.04383797198534012, 0.016695920377969742, 0.0358111597597599, -0.04804931953549385, -0.029880313202738762, -0.07037898898124695, 0.06749092787504196, 0.09293405711650848, 0.01596629060804844, 0.10606276243925095, -0.007512971758842468, 0.03163262829184532, 0.016710082069039345, 0.007873984053730965, 0.047548871487379074, 0.016271598637104034, -0.020680837333202362, -0.02528984099626541, 0.02407432347536087, -0.03524259477853775, -0.03953114524483681, -0.009786609560251236, 0.016566136851906776, 0.011600767262279987, 0.02934945560991764, -0.03179951384663582, -0.01953304558992386, 0.0062703825533390045, -0.040673136711120605, -0.08374765515327454, -0.09841471910476685, -0.019150303676724434, -0.056991055607795715, 0.04615188390016556, 0.02792152389883995, 0.04060443863272667, -0.008471877314150333, -0.01072651706635952, -0.05187937244772911, 0.06738458573818207, -0.001124352216720581, 0.013942983001470566, 0.010884784162044525, -0.025654805824160576, -0.028064196929335594, -0.0012965723872184753, -0.002609589137136936, 0.014719899743795395, -0.03538310527801514, -0.02613905631005764, -0.02740541845560074, -0.00602274015545845, 0.029037680476903915, 0.004093929193913937, 0.030663257464766502, 0.038534946739673615, 0.07133803516626358, 0.05940447002649307, -0.08171205222606659, 0.018111588433384895, 0.007769152522087097, -0.0615517795085907, -0.012022081762552261, -0.007404519245028496, 0.008365682326257229, 0.024511581286787987, -0.016996627673506737, 0.008827916346490383, 0.0044160569086670876, 0.028056280687451363, 0.05935004726052284, 0.0008460339158773422, -0.008984244428575039, -0.011956704780459404, 0.12200702726840973, 0.018746495246887207, 0.015743477270007133, 0.0560493990778923, 0.0005541592836380005, -0.02806413173675537, -0.029688093811273575, -0.052998773753643036, 0.018469568341970444, 0.04388681799173355, 0.03939596563577652, -0.024178752675652504, 0.004927376285195351, -0.05668936297297478, -0.019325658679008484, 0.029333744198083878, -0.06868880987167358, 0.059934988617897034, 0.017048241570591927, -0.026018254458904266, -0.060387022793293, -0.019911179319024086, -0.030216995626688004, 0.00923012662678957, 0.018281009048223495, 0.0535861998796463, 0.005312652327120304, 0.04225477948784828, 0.005165137350559235, 0.006198311690241098]]]\n",
      "ecg shape: torch.Size([1, 8, 128]), ecg: [[[-0.014991541393101215, 0.03458784893155098, -0.045663028955459595, 0.0012589562684297562, -0.0071165189146995544, 0.04090160131454468, 0.016192473471164703, -0.008699717000126839, 0.006932870484888554, 0.021950282156467438, 0.004159626550972462, -0.0640348494052887, 0.03542117774486542, 0.04246484488248825, 0.0030873208306729794, 0.0069944001734256744, 0.011323126032948494, 0.03959329426288605, 0.053939320147037506, 0.02488701045513153, 0.03170766308903694, -0.0013675588415935636, 0.004477855283766985, -0.02223987691104412, 0.047998614609241486, 0.07343342900276184, -0.018149979412555695, -0.014664816670119762, -0.02119339257478714, -0.006876434199512005, -0.022769879549741745, -0.02925845980644226, 0.0055240970104932785, 0.009904222562909126, 0.04756263643503189, -0.08395048975944519, 0.001548711210489273, 0.02814137190580368, -0.06916610151529312, -0.02334611676633358, 0.027010232210159302, -0.036091260612010956, 0.004739983007311821, 0.0035444283857941628, 0.015356142073869705, 0.015741128474473953, -0.016923537477850914, -0.0213412307202816, -0.005989084020256996, -0.048538628965616226, 0.020271465182304382, -0.029875848442316055, 0.015319058671593666, 0.041807010769844055, -0.0740332156419754, -0.03928939253091812, 0.01978006586432457, 0.03854292631149292, -0.015120632015168667, -0.08117088675498962, -0.04026651754975319, 0.0041515640914440155, 0.047094039618968964, 0.04047220200300217, 0.028323577716946602, 0.007688264828175306, -0.03951392322778702, 0.01641032099723816, -0.036714814603328705, -0.009284649044275284, 0.035630758851766586, -0.005084265023469925, 0.07264705747365952, -0.038967300206422806, 0.037757985293865204, -0.045586079359054565, 0.013733373023569584, -0.06850115209817886, 0.004355685785412788, -0.028676025569438934, 0.02171872742474079, 0.012966587208211422, 0.015646621584892273, 0.006448506843298674, 0.017720118165016174, 0.03798263520002365, -0.03547438979148865, -0.009278359822928905, 0.015010862611234188, 0.027339603751897812, 0.009573954157531261, -0.017463743686676025, 0.008447346277534962, 0.01877002790570259, 0.03584098815917969, 0.0164167657494545, 0.02630750834941864, -0.0013897716999053955, -0.01343037374317646, 0.02640773355960846, -0.028959091752767563, -0.012447894550859928, -0.028576811775565147, 0.06394729018211365, -0.029953615739941597, -0.04904208704829216, 0.02532922849059105, 0.04199569672346115, 0.003349490463733673, -0.015788491815328598, -0.014115935191512108, 0.004101825878024101, -0.019698133692145348, 0.0645303800702095, 0.035189736634492874, 1.7490237951278687e-06, -0.01105210930109024, -0.031632475554943085, -0.022594232112169266, 0.04694191366434097, 0.004967512097209692, 0.07556338608264923, -0.0721416026353836, -0.02221948653459549, 0.01551047619432211, -0.006602508947253227, 0.06205733120441437, 0.0029358649626374245], [0.05289236456155777, -0.026874715462327003, -0.04956130310893059, -0.03073001466691494, -0.01981421560049057, -0.005228301510214806, 0.04305139183998108, -0.020313167944550514, 0.005379507318139076, 0.029465198516845703, 0.0010876767337322235, -0.00263078510761261, 0.011953325942158699, 0.03986531123518944, 0.03924860060214996, 0.021174941211938858, -0.012442304752767086, 0.04435790330171585, 0.014090901240706444, 0.030972134321928024, -0.02038971707224846, 0.03970634192228317, 0.03736455366015434, -0.027631856501102448, 0.047160372138023376, 0.05196763202548027, -0.021456439048051834, -0.01321565080434084, -0.009733802638947964, -0.004413597285747528, -0.0478246733546257, -0.035815026611089706, 0.0621836856007576, -0.04619879648089409, -0.06576894223690033, 0.016991373151540756, 0.12429428845643997, -0.016520308330655098, -0.019244328141212463, -0.04009838402271271, -0.04602319374680519, 0.023886479437351227, -0.07863068580627441, 0.06757690012454987, 0.02520907297730446, 0.01679053157567978, -0.016069278120994568, 0.03123241662979126, 0.09607364982366562, 0.034560516476631165, 0.02121761441230774, -0.020321039482951164, -0.01700112596154213, -0.0530007965862751, 0.026295490562915802, -0.07920436561107635, -0.01535339280962944, -0.009650327265262604, 0.052341677248477936, 0.03657430410385132, -0.006072772666811943, 0.004172720015048981, -0.05006331205368042, 0.003142744302749634, 0.012434801086783409, 0.059394869953393936, -0.02029251866042614, 0.0418715700507164, -0.033774130046367645, 0.006163138896226883, -0.03935439512133598, -0.030020352452993393, -0.006110562011599541, -0.022465204820036888, -0.010654794052243233, 0.04710623249411583, -0.08622466027736664, -0.04215192794799805, 0.05892128497362137, -0.06451263278722763, 0.017080117017030716, -0.010128185153007507, 0.0049582477658987045, -0.03508860617876053, -0.02991177886724472, -0.01932128518819809, 0.02617332711815834, 0.040672603994607925, 0.03746352717280388, -0.047658856958150864, -0.019234810024499893, 0.04328737407922745, -0.016889644786715508, 0.014629748649895191, 0.005568535998463631, 0.0007866774685680866, -0.06748766452074051, 0.0028936825692653656, -0.031481459736824036, -0.019728295505046844, 0.0015102885663509369, 0.02958911843597889, 0.01062032114714384, 0.058698978275060654, -0.005210838280618191, 0.004703798331320286, 0.009347684681415558, 0.06578754633665085, 0.03123653493821621, 0.05756240338087082, 0.009005589410662651, -0.040473178029060364, 0.025651955977082253, 0.018287228420376778, -0.037067390978336334, 0.002477051690220833, -0.0024871788918972015, 0.04388447850942612, -0.031067486852407455, -0.018770132213830948, -0.004868342075496912, 0.0006379839032888412, -0.04361538216471672, -0.00609189085662365, -0.00987965613603592, 0.04336216300725937, 0.03947778418660164, -0.03713059425354004], [-0.028475934639573097, -0.054542481899261475, -0.017786383628845215, 0.02655901573598385, -0.03285835683345795, 0.07452239096164703, 0.10617305338382721, 0.001866164617240429, 0.01692081429064274, 0.02065347507596016, -0.022704921662807465, -0.04051995277404785, -0.06479041278362274, 0.11289268732070923, -0.05024712532758713, -0.00318190548568964, 0.11733720451593399, -0.001609115395694971, -0.010943472385406494, 0.010219631716609001, -0.090532585978508, 0.005282706581056118, 0.007212863303720951, -0.06011505052447319, 0.037946321070194244, -0.06161252409219742, -0.034083012491464615, -0.05290023237466812, 0.01958611235022545, 0.034973904490470886, -0.025636104866862297, -0.04190690070390701, -0.026310160756111145, 0.03186110407114029, -0.015887083485722542, -0.04693995416164398, -0.015164828859269619, -0.006579762324690819, -0.019828539341688156, 0.03732180595397949, -0.054333463311195374, -0.01765076443552971, -0.03238821402192116, 0.03642430528998375, 0.0347125418484211, 0.00645303912460804, 0.07230871915817261, -0.056775182485580444, -0.027197938412427902, 0.0426502600312233, 0.005780824460089207, -0.05841294676065445, 0.011662222445011139, -0.023654678836464882, -0.010442513041198254, -0.11475841701030731, 0.015622847713530064, -0.05820160359144211, -0.015340100973844528, 0.011724207550287247, -0.009549617767333984, 0.011169545352458954, -0.023986754938960075, 0.0417143777012825, 0.02214735373854637, 0.0011195559054613113, -0.016716890037059784, 0.02499319612979889, -0.03234722465276718, 0.011996636167168617, -0.00563943013548851, -0.055006902664899826, -0.016109073534607887, 0.05003876984119415, 0.039068553596735, -0.013713800348341465, -0.010804600082337856, 0.03697659447789192, -0.0007735304534435272, 0.038493163883686066, 0.016977088525891304, 0.04417497292160988, 0.05232296884059906, 0.03811712563037872, 0.019804101437330246, -0.01898513361811638, -0.012589976191520691, 0.02716474048793316, 0.07601125538349152, 0.020814290270209312, 0.004636906087398529, 0.013813454657793045, -0.0050125084817409515, -0.03619991987943649, 0.028783883899450302, 0.006957225501537323, -0.02211625501513481, -0.03784520924091339, 0.006120615638792515, 0.07181534171104431, -0.005674883723258972, -0.0010884907096624374, -0.05421701818704605, 0.04267018288373947, -0.08143673092126846, -0.03700398653745651, 0.014485600404441357, 0.028177794069051743, 0.000581174623221159, -0.05196309834718704, -0.02204449102282524, 0.000943436985835433, -0.0007861508056521416, 0.06525770574808121, 0.010442405939102173, 0.03332312032580376, 0.030377088114619255, 0.011991316452622414, 0.014105387032032013, -0.010203099809587002, 0.026305919513106346, 0.005296400748193264, 0.04801914840936661, -0.010520055890083313, -0.055559515953063965, -0.03255186975002289, 0.007359740324318409, -0.03572041913866997], [-0.00041429372504353523, 0.008050468750298023, -0.0006358147948049009, -0.006799059920012951, -0.004546573385596275, -0.044742435216903687, 0.061181940138339996, -0.0388098880648613, -0.06938435882329941, 0.02249051071703434, -0.08365440368652344, -0.09280212223529816, -8.486001752316952e-05, 0.00472634844481945, 0.021886084228754044, 0.02655506506562233, -0.019962262362241745, 0.016106218099594116, 0.028566468507051468, 0.02529304474592209, 0.021922484040260315, 0.010266512632369995, 0.034377571195364, -0.012219393625855446, 0.05739089101552963, 0.07505204528570175, -0.01467788778245449, 0.01581808179616928, 0.01658003032207489, -0.07142104208469391, -0.0527968555688858, -0.08076857030391693, 0.049210838973522186, -0.023836545646190643, -0.0471169576048851, 0.0015310393646359444, 0.11965736001729965, -0.010202266275882721, -0.025474032387137413, -0.04785444959998131, -0.041281893849372864, 0.020452333614230156, -0.029017522931098938, 0.021791432052850723, 0.024396102875471115, 0.05310353264212608, -0.027149654924869537, 0.0005068182945251465, 0.12767063081264496, -0.0138456542044878, 0.09532690048217773, -0.00789366289973259, -0.01673928275704384, -0.037877317517995834, 0.03798026591539383, 0.01956295222043991, 0.04338918626308441, -0.0383027121424675, -0.005247421562671661, 0.014979533851146698, 0.015607107430696487, -0.01739250123500824, -0.04377332702279091, 0.006834103725850582, 0.011026913300156593, 0.0005523953586816788, -0.07928083837032318, 0.007218546699732542, -0.023128587752580643, 0.0024838820099830627, -0.04839029163122177, -0.011801661923527718, -0.029665270820260048, 0.016372596845030785, -0.007200617343187332, -0.0377446748316288, -0.09640523046255112, 0.0008370932191610336, -0.08603076636791229, 0.008992834016680717, 0.020431529730558395, -0.0037469565868377686, -0.013161283917725086, -0.07806488126516342, -0.07684393227100372, -0.051998451352119446, -0.013712096959352493, 0.04259801283478737, 0.02984568476676941, -0.06438106298446655, 0.033636756241321564, 0.09279529005289078, -0.017028044909238815, 0.0011305473744869232, 0.05943397060036659, -0.03547521308064461, -0.06249990314245224, 0.05091163516044617, -0.009696876630187035, 0.03978896513581276, -0.009026598185300827, 0.08830522745847702, 0.07328479737043381, 0.06023280322551727, -0.01548636332154274, -0.0392913855612278, -0.0015284765977412462, 0.06500381231307983, 0.05204547196626663, 0.04609216749668121, -0.03378566727042198, -0.0764143094420433, -0.02871105447411537, -0.030644889920949936, 0.011170299723744392, 0.05739949271082878, 0.041788242757320404, 0.047711148858070374, -0.001949499361217022, -0.03406025096774101, 0.00014575431123375893, -0.06522426009178162, 0.05528043583035469, -0.08010156452655792, -0.027126634493470192, 0.008922545239329338, -0.026607470586895943, -0.0448366217315197], [-0.03782406821846962, -0.03212280198931694, 0.004615980666130781, -0.004139188677072525, 0.08879990875720978, -0.07745430618524551, 0.048357509076595306, -0.09875426441431046, -0.036700159311294556, -0.07530142366886139, -0.054015982896089554, 0.024933472275733948, 0.09192081540822983, 0.0254979245364666, -0.042283955961465836, 0.04040015488862991, 0.13510334491729736, 0.0898890495300293, 0.00848227646201849, 0.06741158664226532, 0.04453069344162941, -0.09893259406089783, -0.007157491520047188, -0.015317822806537151, -0.025896014645695686, -0.08246827125549316, 0.010327670723199844, 0.02894912287592888, -0.05180009454488754, 0.07229507714509964, 0.0032651834189891815, 0.024419352412223816, -0.020128078758716583, -0.040752507746219635, -0.008969780057668686, -0.00782654620707035, 0.013720432296395302, 0.03784622251987457, -0.0672522783279419, -0.020440949127078056, -0.08237694203853607, -0.1398436427116394, -0.002913381904363632, -0.023952290415763855, -0.010566217824816704, 0.022789014503359795, -0.01298869401216507, 0.01716434583067894, -0.00819873996078968, 0.068778395652771, 0.012849569320678711, 0.12535005807876587, 0.022406790405511856, -0.08399299532175064, 0.028401479125022888, 0.05844038724899292, 0.1015457957983017, -0.024199482053518295, 0.053898897022008896, 0.07097990810871124, -0.03407584875822067, -0.0027100592851638794, 0.10991910845041275, 0.08374882489442825, 0.008377619087696075, -0.00016041728667914867, 0.03446125239133835, -0.0790722668170929, -0.07533685863018036, 0.001872439868748188, 0.04239952564239502, 0.05051135644316673, -0.05241064727306366, -0.1447613537311554, 0.04911334440112114, -0.0583324134349823, 0.002645609900355339, 0.009163690730929375, -0.0443941205739975, -0.003533102571964264, 0.016932453960180283, 0.03248675540089607, 0.15853440761566162, -0.09457308053970337, -0.12293872982263565, 0.03431975841522217, -0.04072226956486702, -0.04988588020205498, -0.03117239847779274, 0.030601538717746735, -0.048054710030555725, -0.001334603875875473, -0.020394543185830116, 0.038574960082769394, 0.04177021235227585, 0.03545025363564491, 0.038502637296915054, -0.08564579486846924, -0.04298444464802742, -0.10298216342926025, -0.0018336940556764603, -0.15612095594406128, 0.1075105369091034, 0.12102597951889038, 0.009417486377060413, 0.012075837701559067, 0.12858153879642487, 0.02002251148223877, 0.08310332894325256, -0.008345527574419975, 0.07144429534673691, 0.06653697788715363, 0.023337189108133316, 0.07257601618766785, 0.03919665887951851, 0.08556205034255981, 0.05059489980340004, -0.01315394788980484, -0.051003601402044296, -0.02126231975853443, 0.010478831827640533, -0.047947145998477936, -0.10613249242305756, -0.08644420653581619, 0.0868711844086647, -0.06691382825374603, -0.010294230654835701, -0.0021355580538511276], [0.034838784486055374, -0.06766434013843536, -0.04004807025194168, -0.0026564821600914, -0.05090493708848953, -0.052677497267723083, 0.06464959681034088, 0.010883438400924206, -0.02031037211418152, 0.007895383983850479, -0.022553231567144394, -0.035264190286397934, -0.05570107325911522, -0.04493917152285576, -0.04004950448870659, -0.0340547114610672, -0.018913745880126953, 0.004863006994128227, 0.01701347343623638, -0.007095719687640667, 0.01790614426136017, -0.00267786905169487, -0.03843225538730621, -0.011285998858511448, 0.037239134311676025, 0.01655617356300354, 0.04014991968870163, -0.0017006108537316322, 0.051087021827697754, 0.022814108058810234, -0.00601469911634922, -0.007530387490987778, -0.034671712666749954, -0.019609585404396057, 0.033426202833652496, 0.009833220392465591, -0.015820616856217384, 0.02104363590478897, -0.001119108870625496, 0.018433116376399994, 0.009664591401815414, 0.03000793606042862, 0.009022517129778862, -0.0322360061109066, -0.01718553900718689, -0.022601285949349403, -0.00034996122121810913, -0.028196336701512337, 0.008812401443719864, 0.04061120003461838, 0.021434137597680092, 0.04752225801348686, 0.06408357620239258, 0.03965415060520172, -0.020771650597453117, -0.026874566450715065, 0.06665682047605515, 0.017620084807276726, 0.018976446241140366, 0.00104425847530365, 0.018768101930618286, -0.03904254734516144, 0.00666098203510046, 0.01082553155720234, 0.005714797414839268, 0.08960697799921036, -0.04621833935379982, -0.011988729238510132, 0.03824589401483536, -0.03626628965139389, -0.04505550488829613, -0.022034436464309692, -0.030939603224396706, -0.04485424980521202, 0.0008438285440206528, -0.004398487973958254, 0.044220224022865295, -0.05092274397611618, -0.07296335697174072, 0.00497918576002121, 0.021662957966327667, -0.034436408430337906, 0.01670873910188675, -0.059426307678222656, -0.010782161727547646, -0.007340303622186184, 0.004868742078542709, 0.039461638778448105, 0.08046796917915344, -0.02103986218571663, 0.04796849936246872, -0.05799393355846405, -0.05017385631799698, -0.07090543210506439, -0.041590411216020584, 0.01048697903752327, -0.03285384178161621, 0.008201675489544868, -0.017716720700263977, 0.03523855283856392, -0.010507957078516483, 0.025713656097650528, -0.02726459503173828, 0.0870579332113266, 0.04002325236797333, 0.08165423572063446, -0.022397708147764206, 0.028009260073304176, -0.04096139967441559, -0.030406545847654343, -0.07166481018066406, -0.012716786935925484, 0.022508610039949417, 0.009740851819515228, -0.002232928527519107, -0.025063741952180862, -0.05056454613804817, -0.0401577353477478, -0.009040125645697117, -0.04222327843308449, -0.00675403606146574, -0.002340812934562564, 0.06645159423351288, 0.05159984901547432, -0.022417765110731125, -0.020415062084794044, 0.011686619371175766, 0.014737220481038094], [0.054202549159526825, 0.059541672468185425, -0.0423935130238533, -0.005536740645766258, 0.02168904058635235, -0.030669353902339935, 0.010854257270693779, -0.03128160908818245, 0.028344426304101944, 0.037340112030506134, -0.020183971151709557, -0.06280621886253357, 0.08024566620588303, 0.06518419086933136, 0.031065410003066063, -0.007222190499305725, 0.03483685851097107, -0.04776538908481598, 0.03684151545166969, -0.04999934881925583, -0.02219436503946781, -0.08643954992294312, -0.061458297073841095, 0.012386109679937363, 0.04994945973157883, -0.012407051399350166, -0.015328139066696167, 0.047255631536245346, 0.04896416515111923, -0.04088333249092102, -0.03008761629462242, 0.04644149914383888, 0.0003821803256869316, -0.06568131595849991, -0.03110402636229992, 0.04859447851777077, -0.022733718156814575, 0.08038397133350372, -0.0273052379488945, -0.01228238083422184, 0.01993742026388645, -0.012314915657043457, 0.03647105395793915, -0.0825652927160263, 0.034560903906822205, 0.023658232763409615, -0.010930091142654419, -0.04174075275659561, 0.012590060010552406, -0.02287866361439228, -0.006320388056337833, -0.0009905612096190453, 0.08518914133310318, 0.019701246172189713, -0.053122006356716156, 0.06560874730348587, 0.04901804402470589, -0.0032145297154784203, 0.03099323809146881, -0.051342230290174484, -0.0009102583862841129, 0.006433830596506596, 0.04013533890247345, -0.005727376788854599, 0.046242132782936096, -0.046394940465688705, -0.02981007844209671, 0.0035615460947155952, 0.0318404845893383, -0.016925644129514694, -0.04679303616285324, -0.007224714383482933, 0.01991116628050804, -0.001138981431722641, 0.04837174341082573, 0.008612403646111488, 0.06617870181798935, 0.07387860119342804, -0.028547117486596107, -0.11205746978521347, 0.07373465597629547, 0.010676339268684387, 0.009915422648191452, -0.046935465186834335, 0.09828177094459534, 0.006353292614221573, 0.02621462009847164, 0.0012018177658319473, 0.07934470474720001, -0.06042608991265297, -0.049909088760614395, -0.029555514454841614, 0.009785172529518604, 0.012668827548623085, -0.03273554891347885, 0.018691426143050194, 0.012475147843360901, 0.03044763207435608, 0.0575932152569294, 0.018778294324874878, -0.09605216979980469, 0.026856498792767525, -0.03723036125302315, 0.037115126848220825, -0.02218773402273655, -0.019051577895879745, -0.013637935742735863, 0.006557568907737732, -0.05314052104949951, -0.01668843813240528, 0.006352265365421772, -0.03538589924573898, 0.01494570542126894, -0.010285736061632633, 0.03175846487283707, -0.09214318543672562, 0.023542091250419617, -0.007410068064928055, 0.03943239152431488, -0.01871904358267784, 0.03032461367547512, 0.02881835773587227, -0.04150889068841934, -0.08147305250167847, -0.008983270265161991, 0.034625809639692307, 0.004316514357924461, 0.005698077380657196], [0.008086060173809528, 0.03483304753899574, 0.014254189096391201, -0.021939164027571678, -0.036139387637376785, 0.046023592352867126, -0.06961055099964142, 0.006554011255502701, 0.016078652814030647, -0.0364341177046299, 0.03595924749970436, -0.005296989344060421, 0.028915120288729668, 0.0016129259020090103, 0.05417333543300629, 0.016298353672027588, -0.07052206993103027, 0.011357014998793602, -0.03284727409482002, 0.0030683455988764763, 0.00730499904602766, -0.03356532007455826, -0.03185732290148735, -0.06094428896903992, -0.013678559102118015, 0.017904341220855713, -0.03015623614192009, 0.00033062323927879333, 0.0479588508605957, 0.010545064695179462, -0.045828960835933685, 0.02624625712633133, 0.011837352067232132, -0.020281726494431496, 0.06940585374832153, -0.05418594926595688, 0.03866376727819443, 0.036361243575811386, 0.009022511541843414, -0.00932459905743599, -0.003961667418479919, 0.009598854929208755, -0.029478317126631737, 0.008975181728601456, -0.020372863858938217, -0.044408246874809265, -0.053146399557590485, 0.019157323986291885, 0.04986657202243805, -0.06452930718660355, 0.027537845075130463, 0.00589669169858098, -0.004578182473778725, -0.015787772834300995, 0.0037758282851427794, -0.060189682990312576, 0.031780093908309937, 0.005250949412584305, 0.04794108122587204, -0.027342040091753006, -0.010822905227541924, -0.008724821731448174, 0.05103212222456932, 0.031665049493312836, 0.03378581628203392, 0.0067468732595443726, 0.04697717726230621, -0.08653782308101654, 0.01982625015079975, 0.05464205890893936, 0.009689338505268097, 0.03706347942352295, -0.016126839444041252, -0.022794358432292938, -0.07222604006528854, -0.05742441862821579, 0.011174896731972694, 0.0177221167832613, -0.022666892036795616, 0.023909013718366623, 0.023489713668823242, 0.025105919688940048, -0.03914052993059158, 0.05344720929861069, -0.0027679866179823875, 0.014813071116805077, -0.023931559175252914, 0.01783156767487526, 0.005404777824878693, -0.006044391542673111, -0.058502886444330215, 0.008350368589162827, -0.021460842341184616, 0.00809861533343792, 0.01339931134134531, 0.025243939831852913, -0.037877023220062256, -0.012033294886350632, 0.03745207190513611, -0.02292994037270546, -0.007225015200674534, -0.09313376992940903, -0.014136492274701595, 0.03905055299401283, -0.014043224044144154, -0.023541642352938652, 0.0318436361849308, 0.02600499615073204, -0.04805871844291687, 0.03676038980484009, 0.015539668500423431, -0.043800972402095795, -0.019170360639691353, 0.03529660403728485, -0.02365051954984665, -0.003606308251619339, 0.006669460795819759, 0.03373565897345543, -0.06703120470046997, 0.046508029103279114, 0.03706967085599899, 0.022196803241968155, -0.041344378143548965, 0.004330679774284363, -0.07880795001983643, -0.006366127170622349, 0.022434722632169724, 0.025358224287629128]]]\n",
      "speech shape: torch.Size([1, 8, 128]), speech: [[[0.032308489084243774, -0.02343278005719185, -0.0034004906192421913, 0.005345955491065979, 0.05051293224096298, 0.06238777935504913, 0.029723607003688812, 0.03877938538789749, 0.029866371303796768, 0.00588424876332283, 0.018532004207372665, -0.036459196358919144, -0.021701551973819733, -0.0156418327242136, 0.005261390469968319, 0.024047916755080223, 0.04203063249588013, -0.011522737331688404, -0.05450039729475975, 0.020842857658863068, -0.006981322076171637, -0.017328185960650444, -0.01716863363981247, 0.0028194766491651535, -0.03252214938402176, 0.04516013711690903, 0.029004685580730438, -0.009419567883014679, -0.037317246198654175, 0.029171673581004143, 0.017343152314424515, -0.042919013649225235, -0.021972399204969406, -0.0039087869226932526, 0.03913293033838272, 0.057783372700214386, 0.0276695117354393, 0.006590573117136955, 0.0033557110000401735, 0.016865069046616554, -0.07622304558753967, 0.014428089372813702, 0.03364507481455803, 0.03957364708185196, 0.002931825816631317, 0.013874671421945095, 0.030299847945570946, -0.01522469986230135, -0.04431986063718796, 0.007642966695129871, 0.011090465821325779, -0.027417153120040894, -0.04238221421837807, 0.01300649344921112, -0.01439772266894579, -0.014208802953362465, 0.017223909497261047, 0.009399267844855785, -0.03822953253984451, 0.002568404655903578, -0.005377628840506077, 0.014200502075254917, 0.008407412096858025, 0.016075078397989273, 0.0001911856234073639, 0.00040608644485473633, 0.03957980126142502, 0.027305621653795242, 0.018280349671840668, -0.007829094305634499, -0.01909642480313778, -0.041782815009355545, 0.003680635243654251, 0.0009481756715103984, -0.019954323768615723, 0.0143653005361557, 0.003505924716591835, -0.027198489755392075, 0.015232058241963387, -0.007158147171139717, -0.027477458119392395, 0.008862872608006, -0.054316408932209015, -0.006843658164143562, 0.006467512808740139, 0.010934778489172459, -0.00392669253051281, 0.021268779411911964, 0.009758323431015015, 0.0011879950761795044, 0.012835610657930374, -0.01689654216170311, 0.03440789133310318, -0.0011181067675352097, 0.05695146322250366, -0.05407017469406128, 0.015889007598161697, -0.014330795966088772, 0.01270560547709465, -0.023712672293186188, 0.005355164408683777, -0.026692833751440048, 0.016717547550797462, -0.0065594203770160675, 0.012556283734738827, -0.035292476415634155, -0.05212646722793579, 0.0077551985159516335, -0.01022699661552906, -0.010327763855457306, 0.007764238864183426, 0.011583071202039719, -0.02064727246761322, -0.018554765731096268, 0.013244597241282463, -0.0024426262825727463, -0.0169319286942482, -0.011559090577065945, -0.0073720915243029594, -0.016606777906417847, -0.01115497387945652, 0.019641941413283348, -0.01308148168027401, -0.015334630385041237, 0.008716577664017677, -0.0011487402953207493, -0.011424764059484005, -0.0230129212141037], [0.032812923192977905, -0.028351005166769028, -0.0023419540375471115, 0.018009111285209656, 0.05079672485589981, 0.03240387886762619, -0.055020611733198166, -0.058057334274053574, -0.0040441094897687435, 0.037903811782598495, 0.03498593345284462, 0.015851754695177078, 0.040248580276966095, 4.303921014070511e-05, 0.02808256447315216, 0.03728839010000229, 0.0054767318069934845, -0.0380895659327507, -0.014740227721631527, 0.0355353020131588, -0.019628535956144333, -0.00540347583591938, -0.05875009298324585, -0.034913308918476105, -0.020422006025910378, 0.020847918465733528, 0.01981848105788231, -0.020573459565639496, 0.038716040551662445, -0.03636781871318817, -0.0017358693294227123, -0.016927996650338173, -0.03007989563047886, 0.017347022891044617, 0.043201744556427, -0.018916739150881767, -0.005161818582564592, 0.006851268000900745, 0.028558438643813133, 0.04377618804574013, 0.031049083918333054, -0.012373853474855423, -0.02630496956408024, -0.03397797793149948, 0.011090975254774094, -0.012900998815894127, -0.038173530250787735, -0.048105549067258835, -0.046105142682790756, 0.0630149245262146, -0.04109589755535126, -0.02302766591310501, -0.013177805580198765, -0.035672083497047424, 0.036711957305669785, 0.026161961257457733, -0.03920912742614746, -0.03936485946178436, -0.03720220923423767, -0.04941226914525032, -0.03001343086361885, 0.019253816455602646, -0.02017074078321457, 0.044111307710409164, -0.007867005653679371, -0.06583505123853683, 0.008496446534991264, 0.02859405428171158, 0.04760220646858215, -0.014172220602631569, -0.004262261558324099, 0.0113724609836936, 0.04613997042179108, 0.018741775304079056, 0.006291731260716915, 0.04104083031415939, -0.02097279205918312, -0.02375098317861557, 0.04400116577744484, -0.03044232167303562, -0.020007554441690445, -0.030228756368160248, 0.04086180031299591, -0.01761617138981819, 0.0005045114085078239, 0.015852559357881546, 0.001569824293255806, -0.03237590193748474, -0.06417216360569, 0.00831099133938551, -0.022261250764131546, -0.011816446669399738, 0.010272031649947166, 0.0018490278162062168, 0.041189152747392654, 0.039585866034030914, -0.01103517971932888, -0.002893556375056505, 0.05546592175960541, -0.051224399358034134, -0.006308033596724272, -0.0010342402383685112, -0.03545514494180679, -0.018295859917998314, -0.015883121639490128, -0.04391160607337952, 0.009999485686421394, -0.01692510023713112, -0.002170407213270664, -0.07422192394733429, -0.010217116214334965, 0.0681803748011589, 0.07337666302919388, -0.03777097165584564, 0.022660361602902412, 0.025630051270127296, -0.036719970405101776, -0.03490538150072098, 0.029071403667330742, -0.007376505061984062, -0.01907888799905777, 0.004923224449157715, -0.042060736566782, 0.03315683454275131, 0.03190378472208977, 0.040333136916160583, -0.007310699671506882, 0.02728293091058731], [0.009704312309622765, 0.02988547459244728, -0.041843902319669724, -0.016326528042554855, 0.011688695289194584, 0.015125279314815998, -0.04452800750732422, -0.007971646264195442, 0.08239590376615524, -0.02306447923183441, -0.012267242185771465, -0.005240804515779018, 0.004954000469297171, 0.028930118307471275, -0.08351904153823853, 0.03508050739765167, -0.023250631988048553, 0.006933155469596386, -0.006860058754682541, -0.07592737674713135, 0.0038107912987470627, 0.007555922493338585, -0.013827841728925705, 0.014235902577638626, 0.004518108442425728, 0.03354920819401741, -0.014589167200028896, 0.01571478880941868, 0.020371999591588974, 0.02630656212568283, 0.00927817728370428, 0.02416621334850788, -0.008658191189169884, -0.059982605278491974, -0.03151380643248558, -0.0098175760358572, 0.06124576926231384, -0.0436391606926918, -0.003884623758494854, -0.005846294574439526, 0.04060748592019081, 0.017796214669942856, -0.03807413950562477, -0.027531428262591362, 0.032088007777929306, 0.008391824550926685, -0.020906612277030945, -0.0020972006022930145, -0.056970179080963135, 0.004936281591653824, -0.08985526859760284, -0.07905004918575287, 0.002399686723947525, -0.05981280654668808, -0.035863593220710754, 0.020264964550733566, 0.06200200691819191, -0.07340457290410995, 0.013968640938401222, -0.03343011066317558, 0.00827043317258358, 0.009150449186563492, -0.09665700793266296, 0.020320799201726913, 0.01985415443778038, -0.04714657738804817, 0.03280317783355713, -0.023608621209859848, 0.012690193951129913, 0.06868193298578262, 0.07707307487726212, 0.048978280276060104, -0.02828865498304367, -0.03274810314178467, 0.04686528444290161, 0.02398417517542839, -0.0013999631628394127, 0.002643464831635356, -0.03718831390142441, -0.007641272619366646, 0.08381707966327667, -0.006147429347038269, -0.02150452882051468, -0.03295975178480148, 0.056253790855407715, -0.04971370846033096, -0.01435502152889967, -0.03728850558400154, -0.03807079792022705, -0.022214196622371674, 0.04547571390867233, 0.0834265798330307, -0.07843728363513947, -0.06629487127065659, 0.005429810844361782, 0.0013798810541629791, 0.036590367555618286, -0.04706702381372452, 0.07074124366044998, 0.047540418803691864, -0.017281413078308105, 0.03042697347700596, 0.02499585971236229, 0.03666028380393982, 0.0014561004936695099, 0.022779269143939018, 0.01928543485701084, -0.03762244060635567, -0.0054295863956213, 0.02659774012863636, 0.038564860820770264, 0.0061097899451851845, -0.03608981519937515, -0.03606298565864563, 0.03822355344891548, -0.003814992494881153, -0.0006298571825027466, -0.04896572604775429, -0.042071640491485596, 0.014927975833415985, 0.06711303442716599, 0.04639966040849686, -0.046911533921957016, 0.006617274135351181, -0.027938928455114365, 0.014320725575089455, 0.07433555275201797, 0.004854306578636169], [-0.03335599973797798, -0.029552660882472992, 0.052073217928409576, -0.01770130544900894, -0.007546420209109783, 0.05728982016444206, 0.04546630382537842, -0.032267484813928604, -0.10377602279186249, 0.041042596101760864, -0.03007682040333748, 0.010854545049369335, 0.029817752540111542, -0.042258016765117645, -0.02673853561282158, 0.019285954535007477, 0.00532144121825695, -0.04003087431192398, 0.07664282619953156, 0.06107945740222931, 0.04345068708062172, -0.013440312817692757, -0.05166664347052574, -0.12303829938173294, 0.019342249259352684, 0.002377868629992008, 0.008894586935639381, -0.0029821880161762238, -0.07314074039459229, -0.05396318808197975, -0.045173272490501404, 0.06949827075004578, 0.005225928034633398, 0.05850538611412048, -0.0022199414670467377, -0.01447266899049282, 0.014386851340532303, 0.03246138244867325, 0.0764971673488617, -0.09384617954492569, -0.06827407330274582, 0.06898418068885803, -0.000940440222620964, 0.0661984235048294, -0.02667810022830963, -0.07963133603334427, -0.028358101844787598, 0.027813062071800232, 0.0023998133838176727, -0.021349048241972923, 0.030959075316786766, -0.030650459229946136, -0.06829061359167099, -0.07861505448818207, -0.021612044423818588, -0.05000261962413788, 0.06069719046354294, -0.027815524488687515, -0.07050975412130356, 0.013856805860996246, -0.026354514062404633, -0.045409414917230606, 0.03845193237066269, 0.058640770614147186, 0.07590675354003906, 0.044938232749700546, -0.04431144893169403, -0.012319115921854973, 0.05138523131608963, -0.038892075419425964, 0.08253664523363113, -0.01617981120944023, 0.1003735363483429, -0.00021242164075374603, 0.06624603271484375, 0.008894052356481552, -0.08085554093122482, -0.021980883553624153, 0.06574715673923492, -0.04107063636183739, 0.0597187876701355, 0.07255148887634277, -0.02129341848194599, -0.01985953375697136, 0.02895771712064743, -0.009764384478330612, 0.08423284441232681, -0.016629092395305634, 0.06315499544143677, -0.03655751794576645, 0.023257657885551453, -0.10706932842731476, -0.026198454201221466, 0.016675885766744614, -0.04401885345578194, 0.004675994161516428, -0.00019173696637153625, 0.012892136350274086, -0.06265368312597275, 9.630434215068817e-05, -0.04710645228624344, 0.0035907640121877193, -0.06093902885913849, -0.028510592877864838, 0.05224011093378067, -0.005712293088436127, -0.05060598626732826, 0.05561540275812149, -0.03388866037130356, 0.008186555467545986, 0.01874704286456108, 0.018556036055088043, -0.04603354260325432, 0.021560337394475937, 0.024515626952052116, -0.05190959945321083, -0.03526727855205536, 0.05553749203681946, -0.01510462537407875, 0.02576454170048237, -0.01376054622232914, 0.006293576676398516, -0.12419433891773224, -0.030317258089780807, -0.026309054344892502, 0.06976274400949478, 0.013406530022621155, -0.051382821053266525], [0.021070068702101707, 0.0031150728464126587, -0.03012033924460411, -0.024095434695482254, 0.03802110254764557, -0.048537492752075195, -0.06082025542855263, -0.042179279029369354, -0.004608586430549622, -0.027072768658399582, 0.0901695191860199, -0.025828182697296143, 0.01558111421763897, -0.03034844622015953, 0.026605330407619476, 0.0640447586774826, 0.011636410839855671, 0.020347919315099716, -0.010981505736708641, -0.06594420969486237, -0.019897857680916786, -0.030137713998556137, 0.01593751646578312, -0.03383861109614372, 0.012449515983462334, 0.012232618406414986, 0.04963788017630577, -0.0479646697640419, -0.01876242831349373, 0.004777394235134125, 0.0964457094669342, 0.045902982354164124, 0.00963608268648386, -0.0285869799554348, -0.0557316318154335, -0.011615779250860214, 0.03249778598546982, 0.044709790498018265, 0.1177360862493515, -0.039665043354034424, -0.055294182151556015, -0.01209288276731968, -0.0015793927013874054, 0.0047457460314035416, -0.04649869725108147, 0.004523987416177988, -0.026934143155813217, 0.004381612874567509, -0.0318448580801487, -0.02473144605755806, -0.001228834968060255, 0.02744852378964424, -0.03929343447089195, 0.04577156901359558, 0.03946257382631302, 0.006262601353228092, 0.060156382620334625, -0.10250844061374664, -0.0023097575176507235, 0.04916340857744217, -0.01752806454896927, -0.031173819676041603, -0.03403495252132416, 0.045630037784576416, -0.002229953184723854, -0.054531000554561615, -0.01470095943659544, 0.05663691461086273, 0.008743214420974255, 0.05491147190332413, 0.0068450928665697575, -0.05397593975067139, 0.015941819176077843, 0.01926008053123951, -0.02105904556810856, -0.001794140785932541, -0.0012428676709532738, -0.020069073885679245, -0.06620185077190399, -0.03383415564894676, -0.012235780246555805, 0.05153101682662964, -0.04623475670814514, -0.0084213986992836, 0.00222408608533442, 0.010586751624941826, 0.010332027450203896, 0.017629116773605347, -0.04360869526863098, -0.014367510564625263, 0.018970200791954994, 0.022836288437247276, -0.040026210248470306, -0.004454853478819132, 0.05009531229734421, -0.03829410672187805, -0.010058568790555, 0.02347862534224987, 0.0410466268658638, 0.0046873679384589195, -0.027473213151097298, 0.005026249215006828, 0.02277405932545662, 0.04495638608932495, 0.028592735528945923, -0.12154266238212585, 0.026212885975837708, -0.0475941076874733, -0.06380919367074966, -0.0032132696360349655, -0.08246822655200958, 0.06512634456157684, -0.025529835373163223, -0.06388606131076813, 0.06142076849937439, -0.03789769485592842, 0.029540004208683968, -0.07651211321353912, -0.005048815160989761, -0.017493408173322678, 0.060262635350227356, 0.010343020781874657, -0.04471905529499054, 0.032446522265672684, 0.060302041471004486, 0.0077001117169857025, -0.019891316071152687, 5.8990903198719025e-05], [-0.06162280961871147, 0.06287740916013718, 0.029123999178409576, 0.02188490703701973, 0.013320622965693474, 0.07971054315567017, -0.04813117906451225, -0.07692835479974747, -0.029012218117713928, -0.029480446130037308, -0.06718731671571732, -0.017650585621595383, -0.020852133631706238, -0.041563309729099274, -0.10697388648986816, 0.03173224255442619, 0.019955802708864212, 0.026784677058458328, 0.026156974956393242, -0.00265653058886528, -0.017267663031816483, -0.02814597822725773, -0.008520646020770073, -0.05013817548751831, 0.030659619718790054, -0.12529662251472473, 0.10528521239757538, 0.02692345157265663, 0.06092255935072899, 0.030787188559770584, 0.031161140650510788, 0.01293969340622425, 0.014948868192732334, -0.024886365979909897, 0.004034184850752354, -0.0953533947467804, -0.015686653554439545, -0.021094586700201035, 0.0336521752178669, 0.0044264402240514755, -0.009833910502493382, 0.02393759787082672, 0.00271458737552166, 0.015622825361788273, -0.05091313645243645, -0.06725936383008957, 0.012269526720046997, 0.01850547268986702, 0.033286359161138535, -0.07647083699703217, -0.04514065384864807, 0.014341847971081734, -0.03774871304631233, 0.04752248898148537, -0.0647728443145752, -0.06829085946083069, -0.04914084076881409, -0.02122102491557598, 0.008965489454567432, -0.010329036973416805, 0.00721632968634367, 0.0008315593004226685, 0.039369482547044754, -0.003611108288168907, -0.07261374592781067, -0.0057548657059669495, 0.0514427088201046, -0.005461910739541054, -0.01399020291864872, -0.0804319828748703, 0.06784400343894958, 7.808208465576172e-05, -0.005607759580016136, -0.04169706627726555, 0.06087970361113548, -0.0031192784663289785, 0.11606369912624359, 0.01329343393445015, 0.06142617017030716, 0.016026673838496208, 0.026292718946933746, -0.008344698697328568, -0.042505647987127304, -0.04940948262810707, 0.024743348360061646, -0.03372185677289963, 0.02643429860472679, 0.03880726173520088, -0.02286830171942711, -0.04716039076447487, -0.07949870824813843, 0.02561880648136139, 0.01570841297507286, -0.06410302221775055, -0.022898443043231964, 0.0809226855635643, 0.05846012011170387, -0.04263479262590408, -0.035817936062812805, 0.034623030573129654, 0.08672100305557251, 0.07113926112651825, -0.008900418877601624, 0.050963860005140305, -0.049345944076776505, 0.08617876470088959, 0.0011024903506040573, -0.03584875166416168, -0.016991565003991127, 0.08352088928222656, -0.047272808849811554, 0.0343993715941906, 0.011117639020085335, -0.04550212621688843, -0.05204661563038826, 0.12863408029079437, -0.04991578310728073, 0.04226270318031311, -0.04729827493429184, 0.05564148351550102, -0.0012499731965363026, 0.003583058714866638, 0.023716866970062256, 0.01014401763677597, -0.06574175506830215, 0.026502829045057297, 0.0018923068419098854, 0.03461216017603874], [0.004691543988883495, -0.034791238605976105, -0.003722984343767166, 0.04123657941818237, 0.036095887422561646, -0.004551935940980911, 0.043619148433208466, 0.020473839715123177, 0.0071806469932198524, -0.028873171657323837, -0.030589502304792404, 0.029295336455106735, 0.058803629130125046, 0.006487550213932991, -0.013331183232367039, -0.08637608587741852, 0.012659918516874313, -0.007915619760751724, 0.018152600154280663, 0.06209760904312134, 0.02639836072921753, -0.0492880642414093, -0.005215371027588844, 0.010875043459236622, -0.005479063838720322, 0.028310896828770638, 0.04338851571083069, 0.026934683322906494, 0.007367613725364208, -0.028707735240459442, 0.006974192336201668, -0.019581541419029236, 0.018006160855293274, -0.024046579375863075, 0.024620383977890015, -0.008364683017134666, 0.03456622362136841, 0.05927753448486328, 0.05041147768497467, 0.020146973431110382, -0.007514424622058868, 0.05094563961029053, 0.08533072471618652, 0.020461691543459892, 0.0214613676071167, -0.01643628440797329, -0.052198298275470734, 0.032866671681404114, 0.03730084002017975, 0.0029231298249214888, 0.05088384449481964, 0.005795113742351532, -0.0428754948079586, -0.04700309783220291, -0.019657591357827187, -0.05413886904716492, 0.006245803087949753, -0.041242148727178574, -0.019705023616552353, 0.029746225103735924, -0.0038211457431316376, -0.05397230386734009, -0.008476325310766697, -0.014664258807897568, -0.03001594729721546, 0.05046624317765236, 0.006084210239350796, -0.03399694710969925, -0.020794633775949478, 0.035179607570171356, -0.00044489651918411255, 0.033843956887722015, -0.030667148530483246, -0.0009890738874673843, 0.03334631770849228, 0.014555597677826881, -0.030905194580554962, -0.06998635828495026, 0.020167609676718712, 0.01717381551861763, -0.031851522624492645, -0.06986479461193085, -0.010539445094764233, 0.017438068985939026, -0.06238812953233719, 0.0015941751189529896, -0.006335778161883354, -0.026485618203878403, 0.025926489382982254, 0.03666768968105316, 0.08317756652832031, 0.008287221193313599, -0.004688573069870472, 0.02216481603682041, 0.02259136736392975, -0.038566961884498596, -0.014351721853017807, -0.046981725841760635, -0.004461001604795456, 0.02496451698243618, 0.0009791497141122818, -0.02330147475004196, -0.09167057275772095, 0.03198357671499252, 0.09450219571590424, 0.028797905892133713, -0.04054674506187439, -0.0067194681614637375, 0.03686559945344925, -0.012192349880933762, -0.010996111668646336, -0.07060398906469345, -0.005676835775375366, 0.025603175163269043, -0.024083681404590607, -0.08611087501049042, -0.003859078511595726, -0.0043317340314388275, -0.04378701373934746, -0.002707124687731266, -0.03338567167520523, -0.026926659047603607, 0.02484666183590889, -0.022812537848949432, 0.01006046961992979, 0.030534954741597176, 0.06621506810188293, -0.002916943281888962], [0.0679636001586914, 0.008799538016319275, -0.029093362390995026, -0.04853690415620804, 0.019765861332416534, 0.09613437950611115, 0.009848375804722309, 0.09329631924629211, -0.0030676310416311026, 0.007910042069852352, -0.010106930509209633, 0.023125821724534035, -0.11331237107515335, 0.017232494428753853, -0.007087957113981247, -0.04745069891214371, 0.10754723846912384, -0.001021460397168994, -0.023287909105420113, 0.019240889698266983, 0.015742873772978783, 0.023401252925395966, 0.00846083089709282, 0.022954367101192474, 0.01905597373843193, 0.07593092322349548, 0.01869886927306652, -0.027946799993515015, -0.030422460287809372, 0.041815489530563354, -0.07081180065870285, 0.020477455109357834, 0.0103731295093894, -0.0214114710688591, 0.04776861518621445, -0.010288254357874393, -0.02698894776403904, 0.025667313486337662, -0.0320938341319561, -0.028591156005859375, -0.02162695676088333, -0.0208624005317688, 0.032365117222070694, -0.007200447842478752, -0.01923883520066738, 0.02729513868689537, -0.021817674860358238, -0.008158806711435318, -0.004638999700546265, 0.0038390010595321655, 0.022681698203086853, -0.03743719682097435, -0.06724891066551208, 0.0018678531050682068, -0.03444864973425865, -0.05140237882733345, 0.035202447324991226, -0.03642325475811958, -0.00477236695587635, -0.002365278312936425, -0.007889840751886368, 0.01051043439656496, 0.03355652838945389, -0.0029508224688470364, 0.006375760771334171, 0.025077959522604942, -0.012270286679267883, 0.040394511073827744, 0.006583993323147297, 0.011419229209423065, -0.027674291282892227, -0.0673869177699089, 0.07088728249073029, -0.04273506999015808, 0.01934674009680748, 0.03332563489675522, -0.014729977585375309, -0.01084153726696968, -0.022104904055595398, 0.018790429458022118, -0.026355769485235214, -0.028277499601244926, -0.044638484716415405, -0.041041310876607895, 0.008847822435200214, 0.03303162753582001, -0.03503469377756119, -0.008512824773788452, -0.004450634121894836, 0.019509587436914444, 0.04263228550553322, -0.06266529858112335, 0.015140230767428875, 0.040318943560123444, -0.014031678438186646, -0.026316175237298012, -0.03473757207393646, -0.047384969890117645, -0.013835600577294827, 0.026643624529242516, -0.019010674208402634, 0.0027926936745643616, 0.0024479981511831284, 0.03596580773591995, 0.04330331087112427, -0.014257763512432575, -0.057847656309604645, -0.0025319671258330345, 0.06871648877859116, -0.024348225444555283, 0.01643388345837593, -0.03632650524377823, 0.05607129633426666, 0.0009217928163707256, 0.02969261258840561, -0.08078082650899887, 0.007700419053435326, -0.02806614153087139, -0.04055078327655792, 0.030427876859903336, -0.051250159740448, -0.0017086993902921677, 0.007924633100628853, -0.04800744354724884, -0.03336931765079498, -0.00202753534540534, 0.016575580462813377, -0.048589035868644714]]]\n"
     ]
    }
   ],
   "source": [
    "from transformers.models.mamba.modeling_mamba import MambaMixer\n",
    "class Multimodal_MambaMixer(nn.Module):\n",
    "    def __init__(self,config: MambaConfig) :\n",
    "        super().__init__()\n",
    "        self.eeg_mamba = MambaMixer(config, layer_idx=0)\n",
    "        self.ecg_mamba = MambaMixer(config, layer_idx=0)\n",
    "        self.speech_mamba = MambaMixer(config, layer_idx=0)\n",
    "    def forward(self,eeg,ecg,speech):\n",
    "        eeg = self.eeg_mamba(eeg)\n",
    "        ecg = self.ecg_mamba(ecg)\n",
    "        speech = self.speech_mamba(speech)\n",
    "        return eeg,ecg,speech\n",
    "    \n",
    "config = MambaConfig()\n",
    "hidden_size = config.hidden_size\n",
    "multimodal_mamba = Multimodal_MambaMixer(config)\n",
    "#生成三组测试数据\n",
    "eeg = torch.randn(1,8,hidden_size)\n",
    "ecg = torch.randn(1,8,hidden_size)\n",
    "speech = torch.randn(1,8,hidden_size)\n",
    "#传入模型\n",
    "eeg,ecg,speech = multimodal_mamba(eeg,ecg,speech)\n",
    "print(f'eeg shape: {eeg.shape}, eeg: {eeg.tolist()}')\n",
    "print(f'ecg shape: {ecg.shape}, ecg: {ecg.tolist()}')\n",
    "print(f'speech shape: {speech.shape}, speech: {speech.tolist()}')\n",
    "\n",
    "\n",
    "\n",
    "        \n"
   ]
  },
  {
   "cell_type": "markdown",
   "metadata": {},
   "source": [
    "# 构建多模态交叉注意力"
   ]
  },
  {
   "cell_type": "code",
   "execution_count": 24,
   "metadata": {},
   "outputs": [
    {
     "name": "stdout",
     "output_type": "stream",
     "text": [
      "output shape: torch.Size([1, 8, 128]), output: [[[-0.26403099298477173, -0.43064311146736145, -0.20078110694885254, -0.05025537312030792, -0.427112340927124, 0.009452525526285172, 0.12539102137088776, -0.03399728238582611, -0.5721738934516907, -0.02934853732585907, 0.16480910778045654, -0.145046204328537, 0.6385024785995483, 0.02014501951634884, -0.1954590529203415, -0.23112475872039795, -0.06241070106625557, -0.1101609542965889, 0.2582990229129791, -0.5330830812454224, 0.017649173736572266, -0.6116664409637451, -0.042435139417648315, 0.09602814167737961, -0.38213050365448, 0.29715797305107117, 0.04066082090139389, -0.668300986289978, -0.09950034320354462, -0.48566746711730957, -0.07134559750556946, -0.466272234916687, -0.8342758417129517, -0.3297390043735504, -0.5718695521354675, 0.06897865235805511, 0.5416824221611023, -0.4408143162727356, -0.07320559024810791, -0.45641493797302246, 0.35218673944473267, -0.2759609520435333, -0.9646239280700684, 0.17058426141738892, -0.039781711995601654, 0.24080993235111237, -0.3085789084434509, 0.04771624132990837, 0.41206231713294983, 0.08197402954101562, -0.4704964756965637, 0.434013694524765, 0.025822579860687256, 0.07544968277215958, -0.012760154902935028, -0.6521985530853271, 0.8122336268424988, 0.28153833746910095, -0.4104050397872925, 0.3361527621746063, -0.4779144525527954, -0.21463243663311005, -0.3014369010925293, -0.26114705204963684, -0.013304457068443298, -0.5319501161575317, 0.11945508420467377, 0.35488399863243103, 0.11100685596466064, -0.3232264220714569, -0.37820541858673096, 0.36642763018608093, -0.33900681138038635, -0.16567844152450562, -0.04581157863140106, 0.05508638918399811, -0.3111044466495514, -0.08988465368747711, 0.11680719256401062, 0.26107028126716614, 0.16204437613487244, 0.316265732049942, 0.6593847870826721, 0.20794732868671417, 0.0549888014793396, -0.31506675481796265, -0.25829312205314636, 0.40762025117874146, 0.0593295693397522, -0.06539426743984222, 0.24277573823928833, 0.5597232580184937, 0.2590218186378479, -0.2516469955444336, 0.1673736870288849, -0.3401476740837097, -0.12577246129512787, 0.23538291454315186, -0.24104127287864685, -0.7915072441101074, 0.7732346057891846, -0.327751100063324, -0.32001301646232605, -0.26350879669189453, 0.09215183556079865, -0.7085964679718018, 0.4249652624130249, -0.18192949891090393, -0.19355067610740662, 0.13304537534713745, 0.33809036016464233, 0.23271842300891876, -0.06902968883514404, -0.17701134085655212, 0.7726718783378601, -0.2533569931983948, 0.46042507886886597, 0.8311878442764282, -0.4857511818408966, 0.04842272400856018, -0.026204653084278107, 0.508925199508667, 0.23118233680725098, 0.6030873656272888, -0.6433349251747131, 0.27201688289642334, -0.26466357707977295, -0.03981948271393776], [-0.27019986510276794, -0.37774187326431274, -0.08697423338890076, -0.18668147921562195, -0.12868964672088623, -0.09116528928279877, -0.13889124989509583, -0.0657043308019638, -0.577973484992981, 0.039245910942554474, 0.12023806571960449, -0.2152818739414215, 0.13784140348434448, 0.026977747678756714, -0.021825820207595825, -0.07372619211673737, -0.21651345491409302, 0.10086064040660858, 0.36099469661712646, -0.2220938354730606, -0.10176847875118256, -0.2526352107524872, -0.344157874584198, -0.018613051623106003, -0.21393395960330963, -0.037026770412921906, -0.217149555683136, -0.027290312573313713, 0.16185542941093445, -0.3531569838523865, 0.1554146409034729, 0.24868091940879822, -0.19852003455162048, -0.2899188697338104, -0.16719213128089905, -0.10012319684028625, 0.32385361194610596, -0.3216975927352905, 0.129827082157135, -0.22747305035591125, 0.06292536854743958, -0.21947559714317322, -0.5063837170600891, -0.056197747588157654, 0.20936299860477448, 0.16410960257053375, -0.40444397926330566, -0.08906513452529907, 0.046207934617996216, -0.14616577327251434, -0.26901355385780334, 0.3886576294898987, -0.19163933396339417, -0.024710655212402344, -0.09930949658155441, -0.4237835109233856, 0.594464123249054, 0.24723941087722778, -0.04198349267244339, 0.3140333294868469, -0.16195625066757202, -0.048688389360904694, -0.2716246545314789, -0.07395226508378983, 0.1505327671766281, 0.30701711773872375, 0.23860006034374237, -0.24732765555381775, 0.010051853954792023, -0.2991941273212433, -0.3926887512207031, 0.014148063957691193, -0.30494239926338196, -0.36453235149383545, -0.15978585183620453, 0.4810394048690796, 0.0031093955039978027, 0.08709502965211868, 0.10612650215625763, -0.034776680171489716, -0.17504999041557312, -0.029048308730125427, 0.012567229568958282, 0.3975120782852173, -0.09364944696426392, -0.18398845195770264, -0.21724596619606018, 0.44616225361824036, 0.07159757614135742, -0.03224274516105652, -0.16557662189006805, 0.5272601246833801, 0.2948148846626282, -0.4443342089653015, -0.12929484248161316, -0.3749348521232605, -0.18656110763549805, -0.09613142907619476, -0.10825240612030029, -0.16270965337753296, 0.35498517751693726, -0.040405333042144775, -0.1979321539402008, -0.19109311699867249, 0.10426407307386398, -0.5374507904052734, 0.33849290013313293, -0.04308043047785759, -0.3728220462799072, 0.23115745186805725, 0.2598494589328766, 0.24432583153247833, -0.20842377841472626, -0.19145527482032776, 0.4831138253211975, 0.05813843011856079, -0.03692542389035225, 0.017230987548828125, -0.3075440526008606, -0.1366863250732422, 0.4431610107421875, 0.23656833171844482, 0.40978682041168213, 0.1578613668680191, -0.3494453728199005, 0.1355937123298645, -0.0563814714550972, 0.3630613684654236], [-0.014948584139347076, -0.23450271785259247, -0.09199094027280807, -0.042341865599155426, -0.13688483834266663, -0.035989902913570404, 0.04061296582221985, -0.022925734519958496, -0.18303672969341278, 0.07483378797769547, 0.08849519491195679, -0.13427819311618805, -0.020493455231189728, -0.033900149166584015, 0.13486488163471222, -0.01367121934890747, -0.42244982719421387, 0.04474664106965065, 0.18111258745193481, -0.2609397768974304, -0.08592364937067032, -0.18193723261356354, -0.23842200636863708, -0.03247237950563431, 0.008829191327095032, -0.07967954874038696, -0.276064395904541, -0.10371734946966171, 0.15880121290683746, -0.32646286487579346, 0.336723655462265, 0.06239858642220497, -0.1443048119544983, 0.08249147981405258, -0.09640344977378845, 0.1533520668745041, 0.13226856291294098, -0.3450240194797516, 0.17407900094985962, 0.03473369777202606, 0.07884490489959717, -0.16053041815757751, -0.4300207495689392, -0.033446699380874634, 0.06429030001163483, 0.25316861271858215, -0.3972374200820923, -0.05291324108839035, 0.2847172021865845, -0.09226363897323608, -0.23405638337135315, 0.23962658643722534, -0.4589633345603943, -0.17706158757209778, 0.1240362823009491, -0.33623364567756653, 0.1509980857372284, 0.15594199299812317, 0.1033419519662857, 0.0045500248670578, -0.2575428783893585, -0.23051701486110687, -0.2896529734134674, 0.0026201680302619934, 0.13165590167045593, 0.3314856290817261, 0.2937685549259186, -0.15452991425991058, 0.05628098547458649, -0.05820070952177048, -0.22796720266342163, -0.027922380715608597, -0.20802809298038483, -0.35253626108169556, -0.25809529423713684, 0.35948604345321655, -0.21590302884578705, -0.07010860741138458, -0.010362505912780762, 0.08690601587295532, -0.06997016072273254, 0.06467781960964203, -0.04574846476316452, 0.2890072464942932, 0.08534620702266693, -0.09481829404830933, -0.038586363196372986, 0.15087556838989258, 0.04100529104471207, 0.1734008640050888, -0.22999608516693115, 0.5493371486663818, 0.3626014292240143, -0.29564452171325684, 0.0875895544886589, -0.10797059535980225, -0.07745315134525299, -0.04406726360321045, -0.24099133908748627, -0.2808357775211334, 0.10997065901756287, 0.1336299329996109, 0.0027437210083007812, -0.09864654392004013, 0.05176733806729317, -0.34531110525131226, 0.19548399746418, 0.12561486661434174, -0.04773895442485809, 0.06443891674280167, 0.2852231562137604, 0.08456803858280182, -0.3563079237937927, -0.11575768142938614, 0.17865204811096191, 0.013799220323562622, 0.07928009331226349, 0.19445686042308807, -0.20376214385032654, -0.012722693383693695, 0.002249743789434433, 0.19442324340343475, 0.15011265873908997, 0.33102309703826904, -0.28436708450317383, 0.2940290570259094, 0.028636444360017776, -0.03234390169382095], [-0.08640264719724655, -0.3437652587890625, -0.128340482711792, -0.14347335696220398, 0.0585736483335495, -0.05845798924565315, 0.09861218929290771, -0.0006877603009343147, 0.05645956099033356, 0.21158131957054138, 0.07123883813619614, -0.02261294424533844, 0.14448624849319458, -0.1502847820520401, 0.027617350220680237, 0.07335132360458374, -0.3625892400741577, -0.01596762239933014, 0.10560927540063858, -0.240648090839386, -0.02930700033903122, -0.1600610613822937, -0.2255827784538269, 0.05692059546709061, -0.08902180194854736, -0.08370877057313919, -0.3565672039985657, -0.21138271689414978, 0.14159661531448364, -0.15159812569618225, 0.09264396131038666, -0.06259799003601074, -0.25247901678085327, -0.04566569626331329, 0.10076521337032318, -0.12026467174291611, 0.07653457671403885, -0.2587093710899353, 0.19144092500209808, 0.21569468080997467, 0.044764161109924316, -0.1207382008433342, -0.41491377353668213, -0.0444217324256897, 0.15681660175323486, 0.3313976526260376, -0.06639964133501053, -0.1545858532190323, 0.13600336015224457, 0.026125526055693626, -0.05060239136219025, 0.46883100271224976, -0.3183515667915344, -0.19360284507274628, -0.10069936513900757, -0.20408472418785095, 0.22793513536453247, 0.18270114064216614, 0.014867991209030151, 0.042936086654663086, -0.21001292765140533, -0.10805028676986694, -0.05879169702529907, 0.10047178715467453, 0.15197257697582245, 0.383209228515625, 0.23801134526729584, -0.16569267213344574, 0.019077669829130173, 0.0067766085267066956, -0.3232610821723938, -0.053933098912239075, -0.10968043655157089, -0.1898496448993683, -0.20161941647529602, 0.3226407468318939, -0.16573762893676758, -0.11397305876016617, -0.07061588764190674, -0.025992032140493393, -0.1825977861881256, 0.1640830636024475, -0.14178933203220367, 0.2754858732223511, -0.14857827126979828, -0.031235354021191597, -0.20084503293037415, 0.09410989284515381, -0.00025194883346557617, 0.04476272687315941, -0.33311203122138977, 0.5994377732276917, 0.35023459792137146, -0.3378545939922333, 0.015283503569662571, -0.13155744969844818, -0.18319621682167053, -0.10320005565881729, -0.15919077396392822, -0.12427711486816406, 0.0758724957704544, 0.08437509834766388, 0.013227995485067368, -0.25132277607917786, 0.13317543268203735, -0.2789342403411865, 0.16059696674346924, 0.1638788878917694, 0.09851397573947906, 0.02228724956512451, 0.28013378381729126, -0.02470669150352478, -0.34481146931648254, -0.0657338798046112, 0.300121545791626, -0.07531651854515076, 0.06353148072957993, 0.015385068953037262, -0.27829334139823914, -0.06777195632457733, 0.06218598783016205, 0.17182233929634094, 0.24789327383041382, 0.1484302282333374, -0.07809226959943771, 0.39787423610687256, -0.015433862805366516, 0.029533833265304565], [0.04429207742214203, -0.21217496693134308, -0.21965929865837097, -0.07596161216497421, -0.15901176631450653, -0.09230247884988785, 0.22678129374980927, -0.03538040444254875, -0.013840343803167343, 0.18731075525283813, 0.048225775361061096, -0.0877995416522026, 0.2254061996936798, -0.1276751011610031, 0.12335480749607086, 0.17954795062541962, -0.20590993762016296, -0.036903031170368195, 0.09861976653337479, -0.20873351395130157, -0.08304260671138763, 0.050427913665771484, -0.10257081687450409, 0.07509792596101761, -0.20134088397026062, -0.1911619007587433, -0.29975560307502747, -0.10467700660228729, -0.17853382229804993, -0.0484192930161953, 0.12103799730539322, -0.11670394241809845, -0.006372484378516674, 0.08571087568998337, 0.06955800950527191, -0.20087967813014984, 0.033122867345809937, -0.2930423319339752, 0.28545939922332764, 0.20445536077022552, -0.26538509130477905, -0.038263652473688126, -0.394578754901886, -0.08347447961568832, 0.030351106077432632, 0.19947956502437592, 0.10842633247375488, 0.11849437654018402, 0.12451528757810593, 0.04989099130034447, -0.08990859240293503, 0.38485023379325867, -0.2661571204662323, -0.1736392229795456, -0.03325556218624115, -0.324140727519989, 0.1821301281452179, 0.08816157281398773, 0.04969879984855652, 0.08588430285453796, -0.1553654968738556, -0.07591526210308075, -0.01227283850312233, 0.041712164878845215, 0.08962848782539368, 0.29366880655288696, 0.2750193774700165, -0.28694069385528564, 0.03526779264211655, 0.11097322404384613, -0.2547559440135956, -0.018170520663261414, -0.1626041680574417, -0.05844120681285858, -0.18821510672569275, 0.23288464546203613, -0.14334309101104736, -0.0746186301112175, 0.01640172302722931, 0.041670866310596466, 0.02558981627225876, 0.21260219812393188, -0.013037137687206268, 0.25080668926239014, -0.03450244665145874, -0.02097541093826294, 0.01767861470580101, -0.11370224505662918, 0.033167093992233276, 0.13097573816776276, -0.11714106798171997, 0.42322906851768494, 0.0788697600364685, -0.3199637234210968, -0.0835978239774704, -0.06982211768627167, -0.07392903417348862, 0.004601649474352598, -0.1421794295310974, -0.31917813420295715, -0.035418495535850525, -0.06862880289554596, 0.11793350428342819, -0.0319245308637619, 0.1677115559577942, -0.11217432469129562, 0.25994017720222473, -0.0451103150844574, 0.0006043650209903717, 0.05379556864500046, 0.29138559103012085, -0.09440886974334717, -0.23736083507537842, -0.12698081135749817, 0.2609921991825104, -0.005817338824272156, 0.07595782727003098, -0.002673596143722534, -0.22193442285060883, 0.028534824028611183, -0.06683026254177094, 0.21556319296360016, 0.13012048602104187, 0.221176877617836, 0.06783083081245422, 0.37466752529144287, -0.008629046380519867, -0.09602236747741699], [-0.007345974445343018, -0.20268909633159637, -0.018589653074741364, 0.021450912579894066, -0.023109329864382744, -0.09761421382427216, 0.2012466937303543, -0.10204223543405533, 0.01550120860338211, 0.13930292427539825, -0.04302431643009186, 0.005446918308734894, 0.1660996973514557, -0.007423035800457001, 0.04931406304240227, 0.21831059455871582, -0.07480760663747787, -0.10341376066207886, -0.007040627300739288, -0.027447156608104706, -0.14262956380844116, -0.006140567362308502, -0.24045613408088684, 0.10133149474859238, -0.2951386272907257, -0.2573089599609375, -0.22305533289909363, -0.03965591639280319, -0.041189901530742645, 0.053637415170669556, 0.0403018556535244, -0.11653780192136765, -0.02778621017932892, 0.02721959352493286, 0.04820025712251663, -0.15190981328487396, 0.006356644444167614, -0.3156978189945221, 0.01757504977285862, 0.05346495658159256, -0.20570585131645203, -0.1330995261669159, -0.33701008558273315, 0.1494310349225998, -0.049662258476018906, 0.2874140739440918, 0.15335915982723236, 0.007433030754327774, 0.022497497498989105, -0.0782763659954071, 0.01446458324790001, 0.24138258397579193, -0.21643422544002533, -0.08746055513620377, -0.06989599019289017, -0.2406560778617859, 0.26671352982521057, 0.035336822271347046, -0.020985476672649384, 0.14067941904067993, -0.011482194066047668, 0.06120146065950394, 0.0507197342813015, -0.04265990108251572, 0.1421181559562683, 0.34074217081069946, 0.10663153231143951, -0.3042885661125183, 0.022049613296985626, 0.06752582639455795, -0.2527550756931305, 0.014774050563573837, -0.15395167469978333, 0.025115156546235085, -0.08801467716693878, 0.27220210433006287, -0.044068288058042526, -0.047018274664878845, -0.03238743543624878, -0.0002915114164352417, -0.07957421243190765, 0.16401395201683044, 0.09263643622398376, 0.2235201895236969, -0.06339820474386215, 0.09530158340930939, 0.0034316275268793106, -0.14032673835754395, -0.05420204997062683, 0.05785306915640831, -0.11720574647188187, 0.2699993848800659, 0.0932454764842987, -0.18946729600429535, -0.09326785802841187, -0.01332658901810646, -0.02120203711092472, 0.11966283619403839, -0.09656219184398651, -0.27386391162872314, 0.06965011358261108, -0.07804839313030243, 0.17130668461322784, -0.1396350860595703, 0.22041648626327515, -0.10727629065513611, 0.35704290866851807, 0.03775066137313843, 0.16301119327545166, -0.12746454775333405, 0.21004334092140198, -0.00784561038017273, -0.05629894882440567, -0.03581755608320236, 0.18399083614349365, 0.06095851957798004, 0.08602486550807953, -0.024209946393966675, -0.16697071492671967, -0.011222798377275467, -0.11383543163537979, 0.28095608949661255, 0.10448278486728668, 0.19672255218029022, 0.03717058151960373, 0.2956298589706421, -0.0867905393242836, -0.09047401696443558], [-0.04644472524523735, -0.24711164832115173, 0.002268217969685793, 0.03170734643936157, -0.18872889876365662, -0.053866125643253326, 0.15441282093524933, -0.03540783002972603, 0.0479809045791626, 0.05173411965370178, -0.12400690466165543, 0.16295385360717773, 0.233724445104599, -0.05233871936798096, 0.02803477644920349, 0.052709996700286865, -0.09855617582798004, 0.12812483310699463, 0.011137068271636963, -0.07591119408607483, 0.009784642606973648, -0.002137221395969391, -0.1840371936559677, 0.15639904141426086, -0.08003079146146774, -0.16779080033302307, -0.17077116668224335, -0.034684278070926666, -0.12331521511077881, 0.003673073835670948, 0.05242209881544113, -0.026962244883179665, -0.12075667083263397, 0.0027573145925998688, 0.11940416693687439, -0.13220128417015076, -0.10220825672149658, -0.2642163038253784, 0.12141285836696625, 0.006038074381649494, -0.10862848162651062, 0.006262518465518951, -0.31863513588905334, 0.20611253380775452, -0.11227810382843018, 0.34092971682548523, 0.04852648451924324, -0.02239341475069523, -0.02783825993537903, 0.02782890945672989, 0.1436920464038849, 0.28941506147384644, -0.3378925621509552, 0.003548703622072935, -0.027765437960624695, -0.17306824028491974, 0.32240480184555054, 0.06256599724292755, -0.054964348673820496, 0.03519117832183838, 0.02770606428384781, 0.033321697264909744, 0.045201174914836884, -0.02276294305920601, 0.021776342764496803, 0.23503994941711426, 0.056625284254550934, -0.24969980120658875, 0.12992453575134277, -0.009647111408412457, -0.29967236518859863, 0.017832472920417786, -0.11730119585990906, -0.1493251621723175, -0.02947719395160675, 0.1736947000026703, -0.055677637457847595, -0.07111962139606476, -0.05831588804721832, 0.08115695416927338, -0.06682348251342773, 0.16144222021102905, -0.00740012526512146, 0.13907776772975922, -0.025981787592172623, -0.037097953259944916, -0.050066448748111725, -0.11472075432538986, 0.06408904492855072, -0.09159065783023834, -0.11451679468154907, 0.2188456505537033, 0.12537232041358948, -0.18895351886749268, 0.0081329345703125, -0.06388427317142487, -0.06810405850410461, 0.08603355288505554, -0.1265328824520111, -0.352350115776062, -0.014913924038410187, -0.010053946636617184, 0.2952349781990051, -0.11663549393415451, 0.2264656126499176, -0.17439135909080505, 0.22539754211902618, -0.013207701034843922, 0.11290813982486725, -0.19276651740074158, 0.19797629117965698, 0.0022902637720108032, -0.011237135156989098, -0.08455131947994232, 0.21663150191307068, -0.039371803402900696, 0.0950055941939354, 0.12210570275783539, -0.2075255811214447, -0.07135038822889328, -0.07280976325273514, 0.2385234236717224, 0.09672464430332184, 0.2464890033006668, -0.05019434541463852, 0.23965328931808472, -0.1398569494485855, -0.1543646603822708], [0.059773579239845276, -0.11880845576524734, -0.04695086181163788, 0.03162132576107979, -0.06556730717420578, -0.007427642121911049, 0.2413838505744934, -0.037293773144483566, 0.04218568280339241, 0.12179116159677505, -0.02061571180820465, 0.005465799942612648, 0.13781261444091797, 0.0365469790995121, 0.016668155789375305, 0.19256025552749634, -0.05473676696419716, 0.10327789187431335, -0.05415887385606766, -0.07293213158845901, -0.017005562782287598, 0.04047704488039017, -0.31728339195251465, 0.1920265257358551, -0.19188277423381805, -0.1627361923456192, -0.17655779421329498, -0.026237625628709793, -0.03705054521560669, -0.14338372647762299, 0.10853727161884308, -0.16048388183116913, -0.05755237489938736, 0.08222587406635284, 0.04980040341615677, -0.1201910600066185, -0.06377217173576355, -0.15111878514289856, 0.10776524245738983, 0.11389347910881042, -0.06536447256803513, -0.07242431491613388, -0.2625439763069153, 0.10774045437574387, 0.03580673411488533, 0.23496854305267334, -0.04293783754110336, -0.010760001838207245, 0.03786902129650116, 0.0526692233979702, 0.13239292800426483, 0.22916170954704285, -0.2320183664560318, -0.05304446816444397, -0.041054803878068924, -0.17553558945655823, 0.24498146772384644, 0.03616367280483246, -0.09520301967859268, 0.02819531038403511, 0.023482397198677063, -0.029150526970624924, -0.04680491238832474, -0.020897235721349716, 0.05504544451832771, 0.2333405315876007, -0.037394072860479355, -0.15465110540390015, 0.2027052342891693, -0.087936170399189, -0.19916239380836487, -0.12033853679895401, -0.06409843266010284, -0.2039467990398407, 0.044788748025894165, 0.14289887249469757, -0.021389905363321304, -0.14461341500282288, 0.010000795125961304, 0.139089435338974, -0.18021857738494873, 0.11287646740674973, 0.035417355597019196, 0.10069163143634796, -0.005446135997772217, 0.035521022975444794, -0.15614797174930573, -0.04579911381006241, 0.1000530868768692, -0.01732815057039261, -0.060186371207237244, 0.3233676850795746, 0.16539475321769714, -0.12875357270240784, 0.10023215413093567, -0.02904055081307888, -0.08675020188093185, 0.1004219800233841, -0.11364094913005829, -0.30703067779541016, -0.03760732710361481, -0.12766985595226288, 0.2191363126039505, -0.06860633194446564, 0.11449047923088074, -0.08527244627475739, 0.18729546666145325, 0.06763443350791931, 0.15953290462493896, -0.30316871404647827, 0.16135814785957336, 0.03581967204809189, -0.04720599949359894, -0.18079029023647308, 0.1578371226787567, -0.017232179641723633, 0.15142855048179626, 0.017697781324386597, -0.18378855288028717, -0.016672026365995407, -0.052994661033153534, 0.19696718454360962, 0.020530153065919876, 0.17675891518592834, 0.04283764213323593, 0.18978485465049744, -0.03064872696995735, -0.1554792821407318]]]\n"
     ]
    }
   ],
   "source": [
    "class MultiModalMultiHeadAggregatedAttention(torch.nn.Module):\n",
    "    def __init__(self, config: MambaConfig):\n",
    "        super().__init__()\n",
    "        self.head_dim = config.hidden_size // config.num_head\n",
    "        self.num_head = config.num_head\n",
    "        \n",
    "        self.eeg_Q = torch.nn.Linear(config.hidden_size, config.num_head * self.head_dim)\n",
    "        self.eeg_K = torch.nn.Linear(config.hidden_size, config.num_head * self.head_dim)\n",
    "        self.eeg_V = torch.nn.Linear(config.hidden_size, config.num_head * self.head_dim)\n",
    "\n",
    "        self.ecg_Q = torch.nn.Linear(config.hidden_size, config.num_head * self.head_dim)\n",
    "        self.ecg_K = torch.nn.Linear(config.hidden_size, config.num_head * self.head_dim)\n",
    "        self.ecg_V = torch.nn.Linear(config.hidden_size, config.num_head * self.head_dim)\n",
    "\n",
    "        self.speech_Q = torch.nn.Linear(config.hidden_size, config.num_head * self.head_dim)\n",
    "        self.speech_K = torch.nn.Linear(config.hidden_size, config.num_head * self.head_dim)\n",
    "        self.speech_V = torch.nn.Linear(config.hidden_size, config.num_head * self.head_dim)\n",
    "        # 聚合三个模态权重\n",
    "        self.MulitModalAggregatedWeight = torch.nn.Parameter(torch.ones(1, 1, hidden_size*3))\n",
    "        self.scale = torch.nn.Parameter(torch.ones(1))\n",
    "        def scale_function(x):\n",
    "            return x / 1\n",
    "        self.scale_function = scale_function\n",
    "        self.W_out = torch.nn.Linear(config.num_head * self.head_dim * 3, config.hidden_size)\n",
    "    \n",
    "    def forward(\n",
    "        self,\n",
    "        eeg: torch.Tensor,\n",
    "        ecg: torch.Tensor,\n",
    "        speech: torch.Tensor,\n",
    "    ) -> torch.Tensor:\n",
    "        batch_size, sequence_length, hidden_dim = eeg.shape\n",
    "\n",
    "        # eeg ecg speech Q K V\n",
    "        eeg_Q = self.eeg_Q(eeg).reshape(batch_size, sequence_length, self.num_head, self.head_dim).transpose(1, 2)\n",
    "        eeg_K = self.eeg_K(eeg).reshape(batch_size, sequence_length, self.num_head, self.head_dim).transpose(1, 2)\n",
    "        eeg_V = self.eeg_V(eeg).reshape(batch_size, sequence_length, self.num_head, self.head_dim).transpose(1, 2)\n",
    "        \n",
    "        ecg_Q = self.ecg_Q(ecg).reshape(batch_size, sequence_length, self.num_head, self.head_dim).transpose(1, 2)\n",
    "        ecg_K = self.ecg_K(ecg).reshape(batch_size, sequence_length, self.num_head, self.head_dim).transpose(1, 2)\n",
    "        ecg_V = self.ecg_V(ecg).reshape(batch_size, sequence_length, self.num_head, self.head_dim).transpose(1, 2)\n",
    "\n",
    "        speech_Q = self.speech_Q(speech).reshape(batch_size, sequence_length, self.num_head, self.head_dim).transpose(1, 2)\n",
    "        speech_K = self.speech_K(speech).reshape(batch_size, sequence_length, self.num_head, self.head_dim).transpose(1, 2)\n",
    "        speech_V = self.speech_V(speech).reshape(batch_size, sequence_length, self.num_head, self.head_dim).transpose(1, 2)\n",
    "        \n",
    "        offset = 64\n",
    "        query_length = eeg_Q.size(1)\n",
    "        key_length = eeg_K.size(1)\n",
    "        logn = torch.arange(offset+1, offset+key_length+1, dtype=torch.float32, device=eeg.device)[-query_length:]\n",
    "        base = torch.tensor(2048).to(eeg.device)\n",
    "        logn = torch.log(logn) / torch.log(base)\n",
    "        logn[logn < 1.0] = 1.0\n",
    "        logn = logn.to(eeg.dtype).reshape(1, query_length, 1, 1)\n",
    "\n",
    "        eeg_Q = eeg_Q * logn\n",
    "        ecg_Q = ecg_Q * logn\n",
    "        speech_Q = speech_Q * logn\n",
    "    \n",
    "        eeg_QK = torch.matmul(eeg_Q, eeg_K.transpose(-2, -1))\n",
    "        eeg_QK = eeg_QK / torch.sqrt(torch.tensor(eeg_Q.size(-1)).float())\n",
    "        eeg_QK = eeg_QK.masked_fill(torch.ones(eeg_Q.size(-2), eeg_K.size(-2), dtype=torch.bool).tril(diagonal=0).logical_not(), float('-inf'))\n",
    "        A_attention_scores = torch.nn.functional.softmax(eeg_QK, dim=-1, dtype=torch.float32)\n",
    "        A_output = torch.matmul(A_attention_scores, eeg_V)\n",
    "\n",
    "        ecg_QK = torch.matmul(ecg_Q, ecg_K.transpose(-2, -1))\n",
    "        ecg_QK = ecg_QK / torch.sqrt(torch.tensor(ecg_Q.size(-1)).float())\n",
    "        ecg_QK = ecg_QK.masked_fill(torch.ones(ecg_Q.size(-2), ecg_K.size(-2), dtype=torch.bool).tril(diagonal=0).logical_not(), float('-inf'))\n",
    "        B_attention_scores = torch.nn.functional.softmax(ecg_QK, dim=-1, dtype=torch.float32)\n",
    "        B_output = torch.matmul(B_attention_scores, ecg_V)\n",
    "\n",
    "        speech_QK = torch.matmul(speech_Q, speech_K.transpose(-2, -1))\n",
    "        speech_QK = speech_QK / torch.sqrt(torch.tensor(speech_Q.size(-1)).float())\n",
    "        speech_QK = speech_QK.masked_fill(torch.ones(speech_Q.size(-2), speech_K.size(-2), dtype=torch.bool).tril(diagonal=0).logical_not(), float('-inf'))\n",
    "        C_attention_scores = torch.nn.functional.softmax(speech_QK, dim=-1, dtype=torch.float32)\n",
    "        C_output = torch.matmul(C_attention_scores, speech_V)\n",
    "\n",
    "        # 拼接多头注意力\n",
    "        eeg_attention = A_output.transpose(1, 2).contiguous().reshape(batch_size, sequence_length, hidden_dim)\n",
    "        ecg_attention = B_output.transpose(1, 2).contiguous().reshape(batch_size, sequence_length, hidden_dim)\n",
    "        speech_attention = C_output.transpose(1, 2).contiguous().reshape(batch_size, sequence_length, hidden_dim)\n",
    "\n",
    "        \n",
    "        # 聚合三个模态\n",
    "        # 在hidden_size维度上拼接\n",
    "        attention = torch.cat([eeg_attention, ecg_attention, speech_attention], dim=-1)\n",
    "        # 在最后一个维度上乘以权重\n",
    "        attention = attention * self.MulitModalAggregatedWeight\n",
    "        attention = self.W_out(attention)\n",
    "        return attention\n",
    "a = MultiModalMultiHeadAggregatedAttention(config)\n",
    "eeg = torch.randn(1,8,hidden_size)\n",
    "ecg = torch.randn(1,8,hidden_size)\n",
    "speech = torch.randn(1,8,hidden_size)\n",
    "output = a(eeg,ecg,speech)\n",
    "print(f'output shape: {output.shape}, output: {output.tolist()}')"
   ]
  },
  {
   "cell_type": "markdown",
   "metadata": {},
   "source": [
    "# 将attention数据传入多层感知机"
   ]
  },
  {
   "cell_type": "code",
   "execution_count": 29,
   "metadata": {},
   "outputs": [
    {
     "name": "stdout",
     "output_type": "stream",
     "text": [
      "output shape: torch.Size([1, 8, 128]), output: [[[-0.03005802258849144, 0.03661113604903221, -0.04230335354804993, -0.01663866639137268, 0.011579539626836777, -0.029628539457917213, 0.011300732381641865, 0.03674059361219406, 0.04803945869207382, -0.02741048112511635, -0.005479586776345968, 0.00853760913014412, -0.020629722625017166, 0.01492844708263874, 0.04138476774096489, -0.014421917498111725, -0.022179393097758293, -0.01920831948518753, -0.012751515954732895, 0.031067848205566406, -0.05752098932862282, 0.03988024219870567, 0.03852486610412598, 0.03300059586763382, 0.0189301036298275, 0.04686196893453598, 0.00473767938092351, 0.004312656819820404, 0.016099359840154648, 0.04461783170700073, -0.029505955055356026, 0.01492035947740078, -0.034870829433202744, 0.052952952682971954, 0.03614584356546402, 0.05835624784231186, 0.023058587685227394, 0.01507791131734848, 0.012682636268436909, 0.022250112146139145, 0.017610441893339157, -0.03931175917387009, -0.0243452750146389, 0.03192298114299774, 0.019354771822690964, 0.015129064209759235, -0.008334474638104439, -0.018177561461925507, -0.04569818452000618, -0.04025004059076309, 0.004552978556603193, -0.04144603759050369, -0.02728724107146263, 0.03495895862579346, -0.002223531249910593, 0.018647506833076477, -0.036470506340265274, -0.016269400715827942, 0.04549438878893852, -0.0038577821105718613, -0.03405245020985603, 0.06778106093406677, -0.023039408028125763, -0.00954327080398798, 0.013380917720496655, 0.0009963884949684143, 0.043534308671951294, -0.003734242171049118, 0.05443939194083214, 0.008463514968752861, -0.005702588707208633, -0.021033447235822678, 0.013978241011500359, 0.048107825219631195, -0.012561008334159851, 0.0039340779185295105, 0.005579692777246237, -0.05676836892962456, -0.020201459527015686, -0.03052937611937523, -0.035359736531972885, -0.04471766948699951, -0.017336444929242134, -0.014023186638951302, -0.04712681472301483, 0.03601241856813431, -0.04377780854701996, 0.018986523151397705, -0.03407270461320877, 0.01551758125424385, 0.028326617553830147, 0.03033338114619255, -0.011299527250230312, -0.022674154490232468, 0.03254617378115654, 0.007718374487012625, 0.032657183706760406, -0.01826915517449379, -0.01382704172283411, -0.006872903555631638, -0.03192915394902229, -0.051949627697467804, 0.027359530329704285, 0.0037919101305305958, 0.0019555259495973587, -0.03504391759634018, 0.058804403990507126, 0.00796474702656269, 0.00897889956831932, -0.017589189112186432, -0.0018558204174041748, -0.0023646680638194084, 0.003473372431471944, 0.01913151890039444, 0.01671319641172886, -0.004856208339333534, 0.0022537135519087315, 0.004822387360036373, -0.0029357019811868668, -0.009027880616486073, 0.03018840402364731, 0.05485750734806061, -0.038499608635902405, -0.020084379240870476, 0.041507288813591, 0.005053451284766197, -0.02446356602013111, -0.02877688594162464], [-0.028724240139126778, 0.03413748741149902, -0.04674969241023064, -0.018910469487309456, 0.0141829838976264, 0.005767208058387041, 0.012599211186170578, 0.036220647394657135, 0.038874126970767975, -0.022229472175240517, -0.0017788009718060493, -0.0030170856043696404, -0.048694804310798645, 0.010478589683771133, 0.03606221079826355, -0.015139252878725529, -0.012159230187535286, -0.013880006968975067, -0.0003454532125033438, 0.026724914088845253, -0.041735026985406876, 0.035385146737098694, 0.00960884802043438, 0.04860691353678703, 0.023758338764309883, 0.035897087305784225, 0.021214744076132774, -0.0012973581906408072, 0.0168869961053133, 0.04897702857851982, -0.033513981848955154, 0.006579067558050156, -0.014419473707675934, 0.047480933368206024, 0.039237506687641144, 0.04428192973136902, 0.011365245096385479, 0.02422979846596718, 0.0039412714540958405, 0.03314714878797531, 0.021284151822328568, -0.035725388675928116, -0.0373348742723465, 0.03763328120112419, 0.012374447658658028, 0.025118792429566383, -0.015190298669040203, -0.02482142113149166, -0.02978602983057499, -0.03281687945127487, 0.004475253168493509, -0.02903508022427559, -0.018097853288054466, 0.031862515956163406, -0.01400071568787098, -0.002620111918076873, -0.04024777561426163, -0.015780212357640266, 0.035643093287944794, -0.008059395477175713, -0.030636271461844444, 0.04791829362511635, -0.012423442676663399, -0.00640800641849637, 0.006390124559402466, 0.00021149078384041786, 0.04125349596142769, -0.01798080839216709, 0.04317471385002136, 0.01710629276931286, -0.020370226353406906, -0.022401629015803337, -0.0030179093591868877, 0.04559432342648506, -0.0019661025144159794, 0.004688244313001633, -0.0008060191757977009, -0.02842121571302414, -0.021891802549362183, -0.03476714715361595, -0.03667880594730377, -0.0523897223174572, -0.007735281251370907, -0.018501941114664078, -0.04346632584929466, 0.03690876439213753, -0.03782009333372116, 0.007814222015440464, -0.020338410511612892, 0.04469440132379532, 0.038444727659225464, 0.028731998056173325, -0.021105995401740074, -0.019704697653651237, 0.02657642588019371, 0.003651418024674058, 0.01161098014563322, -0.02675790525972843, -0.011922391131520271, 0.004338205326348543, -0.03403227776288986, -0.04246843606233597, 0.0376611202955246, 0.004090959206223488, 0.010892362333834171, -0.028103671967983246, 0.03901122882962227, 0.013469886034727097, 0.024489548057317734, -0.02569536492228508, -0.002641531638801098, -0.008487537503242493, 0.01162193063646555, 0.022690903395414352, 0.016716327518224716, 0.008373236283659935, 0.01812651939690113, -0.0015006146859377623, 0.010873529128730297, -0.006776174996048212, 0.007391871884465218, 0.048973970115184784, -0.033190853893756866, -0.021128898486495018, 0.03482494130730629, 0.013161512091755867, 0.0034455193672329187, -0.02768503502011299], [-0.0320003405213356, 0.03215427324175835, -0.042847804725170135, -0.01481995452195406, 0.00207070866599679, -0.0007417891174554825, 0.017406325787305832, 0.04372662678360939, 0.033811818808317184, -0.024860799312591553, 0.004571982659399509, -0.006901769898831844, -0.045563146471977234, 0.005655358545482159, 0.032932352274656296, -0.012068945914506912, -0.006738855037838221, -0.017110567539930344, 0.004084398504346609, 0.022647373378276825, -0.033795908093452454, 0.0379958301782608, 0.012326173484325409, 0.04339872673153877, 0.015062844380736351, 0.03839253634214401, 0.018847595900297165, 0.0005925730802118778, 0.02293470688164234, 0.04959201067686081, -0.03541981056332588, 0.0022868080995976925, -0.011240634135901928, 0.03702613711357117, 0.04309060052037239, 0.041615165770053864, 0.018169764429330826, 0.023512843996286392, 0.00888282060623169, 0.03363844007253647, 0.01691569574177265, -0.028430359438061714, -0.03879726678133011, 0.040725283324718475, 0.01518597174435854, 0.03169376403093338, -0.009189524687826633, -0.026289626955986023, -0.033365730196237564, -0.027274461463093758, -0.0069261109456419945, -0.02914627455174923, -0.019254757091403008, 0.02771971933543682, -0.005759731400758028, -0.0059350584633648396, -0.04158708453178406, -0.01166835892945528, 0.04009092226624489, -0.007391847670078278, -0.0282834954559803, 0.04078146815299988, -0.012198027223348618, -0.005323051940649748, 0.011267101392149925, 0.002025941852480173, 0.03015986643731594, -0.019552333280444145, 0.047572799026966095, 0.019540391862392426, -0.016836991533637047, -0.021890798583626747, -0.009242904372513294, 0.035947833210229874, -0.005781399551779032, 0.009377519600093365, -0.0018698838539421558, -0.027454862371087074, -0.02454443648457527, -0.0335637629032135, -0.03266892582178116, -0.04544561356306076, -0.004905713256448507, -0.02104354277253151, -0.04213722422719002, 0.041494641453027725, -0.03619156405329704, 0.00918811745941639, -0.02444944530725479, 0.04338376596570015, 0.03545000031590462, 0.015553487464785576, -0.017159337177872658, -0.013842056505382061, 0.02110489271581173, -0.0019061632920056581, 0.0126395458355546, -0.033346448093652725, -0.01390131190419197, 0.0013474496081471443, -0.03769100457429886, -0.03970080614089966, 0.03582652658224106, 0.007790411822497845, 0.008858926594257355, -0.022415580227971077, 0.04425593093037605, 0.021922631189227104, 0.02277722954750061, -0.027449287474155426, 0.0014451381284743547, -0.007210000418126583, 0.010188053362071514, 0.0182938314974308, 0.021452557295560837, 0.0069807590916752815, 0.022563232108950615, -0.00252905348315835, 0.01446551363915205, -0.004345867317169905, 0.007669185288250446, 0.033251941204071045, -0.032557081431150436, -0.016017701476812363, 0.04355949908494949, 0.01743902638554573, -0.0016019272152334452, -0.022562645375728607], [-0.031153732910752296, 0.03219273313879967, -0.03715801611542702, -0.020694036036729813, 8.045253343880177e-05, -0.003400132991373539, 0.013618534430861473, 0.045371539890766144, 0.03338746353983879, -0.026024656370282173, 0.00923074223101139, -0.008791154250502586, -0.0424286425113678, 0.004708577413111925, 0.031781043857336044, -0.009683915413916111, -0.00855831429362297, -0.013545284047722816, 0.004597005434334278, 0.02132398448884487, -0.033111702650785446, 0.0378383994102478, 0.011045750230550766, 0.0419682115316391, 0.01979880966246128, 0.038789596408605576, 0.01645539700984955, -0.0009727366268634796, 0.023440711200237274, 0.04822702705860138, -0.031601063907146454, 0.00371748860925436, -0.009958324022591114, 0.04237450286746025, 0.03803913667798042, 0.04706469550728798, 0.01873595081269741, 0.029914386570453644, 0.010534732602536678, 0.032097332179546356, 0.02019164338707924, -0.02905918098986149, -0.03996288776397705, 0.03758803382515907, 0.017592910677194595, 0.03389383479952812, -0.009829088114202023, -0.02749636583030224, -0.036233142018318176, -0.028107870370149612, -0.004761602729558945, -0.03412387892603874, -0.016307983547449112, 0.029489237815141678, -0.006331327836960554, -0.006898890249431133, -0.04193228855729103, -0.015380274504423141, 0.03405554220080376, -0.010275674052536488, -0.03121197409927845, 0.03663460910320282, -0.009128503501415253, -0.004233636427670717, 0.008341707289218903, -0.0025109932757914066, 0.028397271409630775, -0.017767811194062233, 0.04735796898603439, 0.016495103016495705, -0.012492609210312366, -0.02590210549533367, -0.0034798914566636086, 0.033143337815999985, 0.0008253196720033884, 0.012412927113473415, -0.004142061807215214, -0.030798830091953278, -0.020764997228980064, -0.03394606336951256, -0.0344315730035305, -0.04543329402804375, -0.006945992354303598, -0.022770360112190247, -0.04361196234822273, 0.043529488146305084, -0.03461708873510361, 0.007125558331608772, -0.022043701261281967, 0.046579498797655106, 0.0367368645966053, 0.013939019292593002, -0.015216474421322346, -0.012287328019738197, 0.022539682686328888, -0.0006453553214669228, 0.014548877254128456, -0.037564393132925034, -0.016154088079929352, -0.0029431625735014677, -0.03999000042676926, -0.039375677704811096, 0.038259223103523254, 0.01008801069110632, 0.01111578568816185, -0.02506290376186371, 0.040079645812511444, 0.023220302537083626, 0.022429434582591057, -0.02629927359521389, 0.001920777838677168, -0.005532002076506615, 0.018066879361867905, 0.020799003541469574, 0.020565548911690712, 0.009895019233226776, 0.023464201018214226, -0.011332254856824875, 0.016847364604473114, -0.006599832326173782, 0.009684169664978981, 0.03649059683084488, -0.02882293239235878, -0.01338990218937397, 0.04275607317686081, 0.018501801416277885, -0.0029570837505161762, -0.030665233731269836], [-0.027871815487742424, 0.034732650965452194, -0.03602239862084389, -0.020081978291273117, -0.0008214755216613412, -0.002428141189739108, 0.01610301248729229, 0.04458117112517357, 0.03272490203380585, -0.033234283328056335, 0.010464300401508808, -0.008033798076212406, -0.039022933691740036, 0.005132092162966728, 0.03266987204551697, -0.003138085128739476, -0.008224439807236195, -0.014913267455995083, 0.004379455931484699, 0.02022879756987095, -0.03615254536271095, 0.03372523561120033, 0.01301049068570137, 0.042647894471883774, 0.018453309312462807, 0.03225577250123024, 0.01344452053308487, -0.003850245149806142, 0.026940813288092613, 0.04155061021447182, -0.029423702508211136, 0.004111591726541519, -0.011765429750084877, 0.04313146322965622, 0.03726222738623619, 0.04618649557232857, 0.023379096761345863, 0.028183288872241974, 0.012171718291938305, 0.037566136568784714, 0.018504466861486435, -0.026332102715969086, -0.04096606373786926, 0.03824298083782196, 0.017924834042787552, 0.034350767731666565, -0.010886221192777157, -0.029473574832081795, -0.03765008971095085, -0.02626834250986576, -0.008467307314276695, -0.02648032084107399, -0.015996120870113373, 0.0271267369389534, -0.002305043861269951, -0.0016799173317849636, -0.04179697483778, -0.016665220260620117, 0.034041766077280045, -0.006341780070215464, -0.034658655524253845, 0.03611460700631142, -0.00673687644302845, -0.007746879011392593, 0.011688319966197014, -0.0028001742903143167, 0.029397547245025635, -0.01525154523551464, 0.04652577266097069, 0.010642727836966515, -0.010833827778697014, -0.017345521599054337, -0.005114358849823475, 0.03193044289946556, -0.001498993718996644, 0.008573738858103752, -0.013021016493439674, -0.03241285681724548, -0.02148856781423092, -0.035079680383205414, -0.03185703232884407, -0.03712745010852814, -0.00014704855857416987, -0.020238513126969337, -0.03721338137984276, 0.04352891445159912, -0.037674710154533386, 0.008047848008573055, -0.017678629606962204, 0.04663771018385887, 0.03481133654713631, 0.012022512964904308, -0.01637260988354683, -0.015505533665418625, 0.01852591149508953, -0.0029852355364710093, 0.018632616847753525, -0.027145829051733017, -0.013285070657730103, -0.01075898576527834, -0.03669752925634384, -0.04163019359111786, 0.035643063485622406, 0.013698890805244446, 0.01214640773832798, -0.024250507354736328, 0.04164503142237663, 0.017648078501224518, 0.017790695652365685, -0.027632545679807663, 0.007456977851688862, -0.003941080532968044, 0.010545372031629086, 0.018996810540556908, 0.01653854362666607, 0.014390047639608383, 0.021855080500245094, -0.012276004999876022, 0.011116322129964828, -0.0033740540966391563, 0.010042070411145687, 0.03882303461432457, -0.029057860374450684, -0.012033306062221527, 0.03966075927019119, 0.018213216215372086, -0.005567564629018307, -0.029191628098487854], [-0.02408059872686863, 0.034361544996500015, -0.036713261157274246, -0.02090388722717762, -0.0045648361556231976, -0.002071666531264782, 0.017543122172355652, 0.04558234289288521, 0.028049755841493607, -0.033860329538583755, 0.012260961346328259, -0.009812057949602604, -0.038578007370233536, 0.0063041457906365395, 0.032573964446783066, -0.005316862370818853, -0.009574000723659992, -0.012738136574625969, 0.007602129131555557, 0.02156723290681839, -0.03536292165517807, 0.029902642592787743, 0.008864810690283775, 0.04304972290992737, 0.014955101534724236, 0.03319035843014717, 0.012466471642255783, -0.00562090240418911, 0.025477467104792595, 0.0403544083237648, -0.029628967866301537, 0.0035563413985073566, -0.011290483176708221, 0.041549816727638245, 0.03600497543811798, 0.047679003328084946, 0.02358322963118553, 0.030543770641088486, 0.01112223882228136, 0.036223094910383224, 0.01413798425346613, -0.03141193464398384, -0.042733803391456604, 0.036987509578466415, 0.017423704266548157, 0.03440646454691887, -0.010763285681605339, -0.02738104574382305, -0.038077760487794876, -0.022951671853661537, -0.00825384072959423, -0.02590559981763363, -0.018598660826683044, 0.026181790977716446, -0.004870817065238953, 0.0007708501652814448, -0.04190349578857422, -0.01596723310649395, 0.03138108551502228, -0.0031940415501594543, -0.033593375235795975, 0.03677516058087349, -0.007845558226108551, -0.01393759436905384, 0.015123507007956505, 0.0014865363482385874, 0.02949969284236431, -0.01287014875560999, 0.04592753201723099, 0.012353839352726936, -0.012731216847896576, -0.017533158883452415, 0.0009384591830894351, 0.033766329288482666, -0.0029672076925635338, 0.010499349795281887, -0.013902472332119942, -0.03944778069853783, -0.020775506272912025, -0.03575345128774643, -0.03263530880212784, -0.03814447671175003, -0.002769801300019026, -0.01775413565337658, -0.03798742964863777, 0.042573198676109314, -0.03606300801038742, 0.006961825769394636, -0.014948745258152485, 0.04166348651051521, 0.03471223637461662, 0.014409465715289116, -0.014122880063951015, -0.01770305261015892, 0.018066078424453735, -0.003411901416257024, 0.019800536334514618, -0.025189682841300964, -0.014764189720153809, -0.011982901953160763, -0.03638027235865593, -0.04138815030455589, 0.03276148810982704, 0.00867489818483591, 0.014827742241322994, -0.02959790639579296, 0.041132405400276184, 0.018607165664434433, 0.016404859721660614, -0.026292724534869194, 0.006051497533917427, -0.005140535067766905, 0.008162515237927437, 0.021333934739232063, 0.017858512699604034, 0.013446558266878128, 0.02097540721297264, -0.01417766883969307, 0.010488050989806652, -0.0033169600646942854, 0.008052601478993893, 0.038425181061029434, -0.026574771851301193, -0.009211613796651363, 0.039158180356025696, 0.020243661478161812, -0.006349717732518911, -0.032446421682834625], [-0.027740469202399254, 0.03528403863310814, -0.03620394691824913, -0.020695557817816734, -0.0018892197404056787, -0.00013016053708270192, 0.016181284561753273, 0.04553203657269478, 0.027551455423235893, -0.03158777952194214, 0.011580349877476692, -0.008629819378256798, -0.03747251629829407, 0.008232536725699902, 0.03377113118767738, -0.006382575258612633, -0.009945082478225231, -0.010431107133626938, 0.006245879456400871, 0.02249234914779663, -0.03487192466855049, 0.029399683699011803, 0.008794378489255905, 0.03932240605354309, 0.01730356179177761, 0.0359758585691452, 0.01344530750066042, -0.003007091348990798, 0.02507827989757061, 0.04343046247959137, -0.02981942519545555, 0.005426052026450634, -0.011314627714455128, 0.042731717228889465, 0.037413839250802994, 0.04465874284505844, 0.02158445492386818, 0.02857976406812668, 0.012403671629726887, 0.03448718786239624, 0.017143776640295982, -0.03027176670730114, -0.04078380763530731, 0.03902106732130051, 0.020590955391526222, 0.03552795574069023, -0.009851098991930485, -0.02505216747522354, -0.037559874355793, -0.022072408348321915, -0.00905817560851574, -0.02632015384733677, -0.018877370283007622, 0.026302466168999672, -0.006485918536782265, -4.760967567563057e-05, -0.0413132905960083, -0.0174440685659647, 0.028640521690249443, -0.005945736076682806, -0.034949593245983124, 0.03501179441809654, -0.008790353313088417, -0.012417810037732124, 0.014994406141340733, 0.002771910047158599, 0.029979312792420387, -0.01384987123310566, 0.046176210045814514, 0.01344522088766098, -0.009443686343729496, -0.016853393986821175, 0.0019636366050690413, 0.03127601370215416, -0.0036855468060821295, 0.010259543545544147, -0.011705762706696987, -0.03535332530736923, -0.019795818254351616, -0.03707723692059517, -0.0294558797031641, -0.03969857096672058, -0.003510155249387026, -0.01778692565858364, -0.03970851004123688, 0.04280886426568031, -0.03474023938179016, 0.00680205412209034, -0.018471188843250275, 0.03934275731444359, 0.03398183360695839, 0.016024665907025337, -0.014849236235022545, -0.01586299203336239, 0.016805017367005348, -0.0034069668035954237, 0.021849414333701134, -0.026298658922314644, -0.012919390574097633, -0.007975966669619083, -0.03855302184820175, -0.03886563703417778, 0.03507110849022865, 0.008906346745789051, 0.013177111744880676, -0.02865852229297161, 0.04285759478807449, 0.019229210913181305, 0.01586957834661007, -0.026472624391317368, 0.007850603200495243, -0.004170645028352737, 0.006872173398733139, 0.020156826823949814, 0.017544260248541832, 0.009242067113518715, 0.020208559930324554, -0.013501300476491451, 0.009402920491993427, -0.006700489670038223, 0.010311503894627094, 0.0401272214949131, -0.027523530647158623, -0.011327628046274185, 0.03846147283911705, 0.02190263755619526, -0.007023732177913189, -0.033301472663879395], [-0.024932699277997017, 0.03435325622558594, -0.03717278689146042, -0.018671054393053055, -0.002895746845752001, 4.681365317082964e-05, 0.017827007919549942, 0.04475196823477745, 0.02778729610145092, -0.030059609562158585, 0.012212260626256466, -0.007834840565919876, -0.03799566254019737, 0.0077697173692286015, 0.031071187928318977, -0.006423358805477619, -0.0098927803337574, -0.011960050091147423, 0.004439380951225758, 0.02113717794418335, -0.03558593988418579, 0.02697974629700184, 0.00948649924248457, 0.038092803210020065, 0.015677504241466522, 0.03710028901696205, 0.013351374305784702, -0.0053871311247348785, 0.024873515591025352, 0.04460791498422623, -0.02875417284667492, 0.0022567252162843943, -0.012327163480222225, 0.041003890335559845, 0.0357324592769146, 0.04807964712381363, 0.02249985933303833, 0.02746277116239071, 0.014676609076559544, 0.038085512816905975, 0.011626997962594032, -0.031876664608716965, -0.03961588069796562, 0.03688289597630501, 0.01727105863392353, 0.034814562648534775, -0.011396718211472034, -0.02559187076985836, -0.0369170606136322, -0.022764716297388077, -0.006289617158472538, -0.026301177218556404, -0.018683677539229393, 0.02824459783732891, -0.004228419624269009, -0.0013174406485632062, -0.0410727858543396, -0.015927959233522415, 0.031049488112330437, -0.00589217571541667, -0.03452088311314583, 0.036769844591617584, -0.009253820404410362, -0.011411293409764767, 0.012407979927957058, 0.0036855111829936504, 0.03104700706899166, -0.012896566651761532, 0.04585260897874832, 0.013995017856359482, -0.01032127346843481, -0.01737786829471588, 0.0013103524688631296, 0.03254028782248497, -0.0004821287002414465, 0.01106241624802351, -0.015444394201040268, -0.03577418252825737, -0.021231377497315407, -0.03840313106775284, -0.029406029731035233, -0.03774122893810272, -0.0034722662530839443, -0.01936442404985428, -0.03901892900466919, 0.043935295194387436, -0.0349665991961956, 0.00854431837797165, -0.020636731758713722, 0.04103493690490723, 0.03285302594304085, 0.015379120595753193, -0.01652379333972931, -0.014790954068303108, 0.0156608447432518, -0.002587823895737529, 0.019654283300042152, -0.026673126965761185, -0.01169247180223465, -0.006626080721616745, -0.03602451831102371, -0.03914737328886986, 0.03653327003121376, 0.01174284890294075, 0.015217768959701061, -0.026698848232626915, 0.03991948813199997, 0.019625913351774216, 0.015900714322924614, -0.0273557361215353, 0.006124687381088734, -0.00626545213162899, 0.009195264428853989, 0.02203390747308731, 0.015450031496584415, 0.008885678835213184, 0.021408893167972565, -0.013118353672325611, 0.008597410283982754, -0.005546715576201677, 0.010515228845179081, 0.040901344269514084, -0.029797488823533058, -0.011702418327331543, 0.03873131424188614, 0.021660197526216507, -0.0060233804397284985, -0.03154406696557999]]]\n"
     ]
    }
   ],
   "source": [
    "\n",
    "class MLP(torch.nn.Module):\n",
    "    def __init__(self, config: MambaConfig):\n",
    "        super().__init__()\n",
    "        self.hidden_size = config.hidden_size\n",
    "        self.ffn_hidden_size = hidden_size * 4\n",
    "\n",
    "        self.gate_linear = torch.nn.Linear(self.hidden_size, self.ffn_hidden_size)\n",
    "        self.up_linear = torch.nn.Linear(self.hidden_size, self.ffn_hidden_size)\n",
    "        self.act = torch.nn.SiLU()\n",
    "        self.down_linear = torch.nn.Linear(self.ffn_hidden_size, self.hidden_size)\n",
    "\n",
    "    def forward(self, x):\n",
    "        return self.down_linear(self.act(self.up_linear(x) * self.gate_linear(x)))\n",
    "#测试\n",
    "mlp = MLP(config)\n",
    "output = mlp(output)\n",
    "print(f'output shape: {output.shape}, output: {output.tolist()}')\n",
    "    \n",
    "\n",
    "\n",
    "\n",
    "\n",
    "\n",
    "\n"
   ]
  }
 ],
 "metadata": {
  "kernelspec": {
   "display_name": "Test1",
   "language": "python",
   "name": "python3"
  },
  "language_info": {
   "codemirror_mode": {
    "name": "ipython",
    "version": 3
   },
   "file_extension": ".py",
   "mimetype": "text/x-python",
   "name": "python",
   "nbconvert_exporter": "python",
   "pygments_lexer": "ipython3",
   "version": "3.8.19"
  }
 },
 "nbformat": 4,
 "nbformat_minor": 2
}
